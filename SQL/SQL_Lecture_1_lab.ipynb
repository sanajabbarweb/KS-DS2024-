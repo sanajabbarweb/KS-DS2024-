{
 "cells": [
  {
   "cell_type": "markdown",
   "id": "a750c9e0",
   "metadata": {
    "tags": []
   },
   "source": [
    "# SQL I\n",
    "\n",
    "Introducing SQL and databases."
   ]
  },
  {
   "cell_type": "markdown",
   "id": "851dbb4e-77e5-456e-903f-d8df3aea6707",
   "metadata": {},
   "source": [
    "## Starting Up SQL"
   ]
  },
  {
   "cell_type": "markdown",
   "id": "863c24e4-6422-47c8-a194-575b7b7488ae",
   "metadata": {},
   "source": [
    "Before we look at SQL syntax in detail, let's first get ourselves set up to run SQL queries in Jupyter."
   ]
  },
  {
   "cell_type": "markdown",
   "id": "d4c43259-2e11-4cb3-b2ed-04f2a4148d60",
   "metadata": {},
   "source": [
    "#### Approach #1: SQL Magic"
   ]
  },
  {
   "cell_type": "markdown",
   "id": "f699330c-aee9-4036-bc7d-0fe329410f7b",
   "metadata": {},
   "source": [
    "**1. Load the `sql` Module.** \n",
    "\n",
    "Load `%%sql` cell magic."
   ]
  },
  {
   "cell_type": "code",
   "execution_count": null,
   "id": "d809a9ab-fe04-4e65-99b9-bd1e0c6a0daf",
   "metadata": {},
   "outputs": [],
   "source": [
    "%load_ext sql"
   ]
  },
  {
   "cell_type": "markdown",
   "id": "b155e056-d307-4f69-8083-dee31155224e",
   "metadata": {},
   "source": [
    "**2. Connect to a database.**  \n",
    "\n",
    "Here, we connect to the SQLite database `basic_examples.db`."
   ]
  },
  {
   "cell_type": "code",
   "execution_count": null,
   "id": "480982be-9b63-44f4-8ca2-e3b29cd04877",
   "metadata": {},
   "outputs": [],
   "source": [
    "%%sql\n",
    "sqlite:///data/basic_examples.db"
   ]
  },
  {
   "cell_type": "markdown",
   "id": "1b9a53ac-58d6-439f-a33e-926e15144e97",
   "metadata": {},
   "source": [
    "<br/>\n",
    "\n",
    "**3. Run a simple SQL query.** \n",
    "\n",
    "Note the `%%sql` lets Jupyter parse the rest of the lines as a SQL command."
   ]
  },
  {
   "cell_type": "code",
   "execution_count": null,
   "id": "8c172229-1ae6-408a-80b6-ef7985fbe386",
   "metadata": {},
   "outputs": [],
   "source": [
    "%%sql\n",
    "SELECT * FROM Dragon;"
   ]
  },
  {
   "cell_type": "markdown",
   "id": "3e2fbecc-ccf6-4807-b810-7de159a111a1",
   "metadata": {},
   "source": [
    "**Simple query, this time on two different lines.**"
   ]
  },
  {
   "cell_type": "code",
   "execution_count": null,
   "id": "4cbb0a40-63e7-46aa-a65f-a212e1a7858a",
   "metadata": {},
   "outputs": [],
   "source": [
    "%%sql\n",
    "SELECT *\n",
    "FROM Dragon;"
   ]
  },
  {
   "cell_type": "markdown",
   "id": "4d7ac386-94a9-4d3e-9b65-122d5213314a",
   "metadata": {
    "tags": []
   },
   "source": [
    "#### Approach #2: `pd.read_sql`\n",
    "\n",
    "It turns out that `pandas` has a special-purpose function to parse SQL queries. We can pass in a SQL query as a string to return a `pandas` DataFrame. To achieve the same result as we did using cell magic above, we can do the following."
   ]
  },
  {
   "cell_type": "markdown",
   "id": "54b68e95-db18-4bc5-83aa-7631f53520f2",
   "metadata": {},
   "source": [
    "**1. Connect to a database**"
   ]
  },
  {
   "cell_type": "code",
   "execution_count": null,
   "id": "3a8939f0-cbfc-4891-b575-4730df1d8aa5",
   "metadata": {},
   "outputs": [],
   "source": [
    "import sqlalchemy \n",
    "import pandas as pd\n",
    "\n",
    "engine = sqlalchemy.create_engine(\"sqlite:///data/basic_examples.db\")\n",
    "connection = engine.connect()"
   ]
  },
  {
   "cell_type": "markdown",
   "id": "170c65bd-6971-45fe-a719-46d4f7b67ddd",
   "metadata": {},
   "source": [
    "**2. Run a simple SQL query**"
   ]
  },
  {
   "cell_type": "code",
   "execution_count": null,
   "id": "f3c78d9d-a192-476d-a1c8-3a6262f940db",
   "metadata": {},
   "outputs": [],
   "source": [
    "query = \"\"\"\n",
    "SELECT * \n",
    "FROM Dragon;\n",
    "\"\"\"\n",
    "\n",
    "pd.read_sql(query, engine)"
   ]
  },
  {
   "cell_type": "markdown",
   "id": "fc681cfe-8de9-4af0-87dd-46942ea9f1c8",
   "metadata": {},
   "source": [
    "## Tables and Schema\n",
    "\n",
    "A **database** contains a collection of SQL **tables**. Let's connect to our \"toy\" database `basic_examples.db` and explore the tables it stores."
   ]
  },
  {
   "cell_type": "code",
   "execution_count": null,
   "id": "2e6b0837",
   "metadata": {},
   "outputs": [],
   "source": [
    "%%sql\n",
    "sqlite:///data/basic_examples.db"
   ]
  },
  {
   "cell_type": "code",
   "execution_count": null,
   "id": "f32da741",
   "metadata": {
    "tags": []
   },
   "outputs": [],
   "source": [
    "%%sql\n",
    "SELECT * FROM sqlite_master WHERE type='table'"
   ]
  },
  {
   "cell_type": "markdown",
   "id": "74946c12-47af-42a2-9de5-b20b41eb0160",
   "metadata": {},
   "source": [
    "## Basic Queries\n",
    "\n",
    "Every SQL query *must* contain a `SELECT` and `FROM` clause.\n",
    "\n",
    "* `SELECT`: specify the column(s) to return in the output\n",
    "* `FROM`: specify the database table from which to extract data"
   ]
  },
  {
   "cell_type": "markdown",
   "id": "f46b6352",
   "metadata": {},
   "source": [
    "**Question:** Select all columns from the **Dragon** table."
   ]
  },
  {
   "cell_type": "code",
   "execution_count": null,
   "id": "8b10641e",
   "metadata": {
    "scrolled": true
   },
   "outputs": [],
   "source": []
  },
  {
   "cell_type": "markdown",
   "id": "ed68c53b",
   "metadata": {},
   "source": [
    "**Question:** Select columns **cute** and **year** from the **Dragon** table."
   ]
  },
  {
   "cell_type": "code",
   "execution_count": null,
   "id": "0db25a51",
   "metadata": {},
   "outputs": [],
   "source": []
  },
  {
   "cell_type": "markdown",
   "id": "9995de9b-c827-48b6-84bc-3b169cc5f549",
   "metadata": {},
   "source": [
    "**Aliasing** with `AS`"
   ]
  },
  {
   "cell_type": "markdown",
   "id": "2b8eef93",
   "metadata": {},
   "source": [
    "**Question:** Repeat the last exercise with aliasing."
   ]
  },
  {
   "cell_type": "code",
   "execution_count": null,
   "id": "75596c85-eb17-4d19-b065-984524dec1d8",
   "metadata": {},
   "outputs": [],
   "source": []
  },
  {
   "cell_type": "markdown",
   "id": "8aba7a6c-2e1b-496e-944b-a752023dbb8a",
   "metadata": {},
   "source": [
    "**Uniqueness** with `DISTINCT`"
   ]
  },
  {
   "cell_type": "markdown",
   "id": "dee4067a",
   "metadata": {},
   "source": [
    "**Question:** Select all the unique years in the **Dragon** table."
   ]
  },
  {
   "cell_type": "code",
   "execution_count": null,
   "id": "734189f7-de89-42ca-84e3-306cb564f34e",
   "metadata": {},
   "outputs": [],
   "source": []
  },
  {
   "cell_type": "markdown",
   "id": "fca8c73c-ca03-4f65-9dfe-72e2368bd795",
   "metadata": {},
   "source": [
    "**Filtering** with `WHERE`"
   ]
  },
  {
   "cell_type": "markdown",
   "id": "eb2a1947",
   "metadata": {},
   "source": [
    "**Question:** Select the **name** and **year** columns from the **Dragon** table such that the cute value is greater than 0."
   ]
  },
  {
   "cell_type": "code",
   "execution_count": null,
   "id": "2a28705b-7d0d-4252-b544-346194d2eea0",
   "metadata": {},
   "outputs": [],
   "source": []
  },
  {
   "cell_type": "markdown",
   "id": "fc2e8044",
   "metadata": {},
   "source": [
    "**Question:** Select the **name**, **cute** and **year** columns from the **Dragon** table such that the cute value is greater than 0 or the year is greater than 2013."
   ]
  },
  {
   "cell_type": "code",
   "execution_count": null,
   "id": "b8a3e2ce-9be3-41fa-8fcb-02b63095d269",
   "metadata": {
    "scrolled": true
   },
   "outputs": [],
   "source": []
  },
  {
   "cell_type": "markdown",
   "id": "3dec199d",
   "metadata": {},
   "source": [
    "**Question:** Select the **name** and **year** columns from the **Dragon** table such that the name is either 'puff' or 'hiccup'."
   ]
  },
  {
   "cell_type": "code",
   "execution_count": null,
   "id": "9cbbfe9a-7098-48c4-b015-c81b6ff5acb8",
   "metadata": {
    "scrolled": true
   },
   "outputs": [],
   "source": []
  },
  {
   "cell_type": "markdown",
   "id": "4cc26d7c",
   "metadata": {},
   "source": [
    "**Question:** Get the name and cute value of all dragons whose cute value is not null."
   ]
  },
  {
   "cell_type": "code",
   "execution_count": null,
   "id": "03dac425-d2e2-4699-99b9-5ca9bbbc1ab0",
   "metadata": {},
   "outputs": [],
   "source": []
  },
  {
   "cell_type": "markdown",
   "id": "fc92df7a-14b4-4379-9c68-b1326c2a6b7d",
   "metadata": {},
   "source": [
    "**Ordering** data using `ORDER BY`"
   ]
  },
  {
   "cell_type": "markdown",
   "id": "4b81a3dd",
   "metadata": {},
   "source": [
    "**Question:** Sort the **Dragon** table in descending order of cuteness."
   ]
  },
  {
   "cell_type": "code",
   "execution_count": null,
   "id": "e92fcdcb-7b45-486c-a1f7-8d6c7e25413c",
   "metadata": {},
   "outputs": [],
   "source": []
  },
  {
   "cell_type": "markdown",
   "id": "7972bc77-a058-477e-a945-828888c48147",
   "metadata": {},
   "source": [
    "**Restricting** output with `LIMIT` and `OFFSET`"
   ]
  },
  {
   "cell_type": "markdown",
   "id": "bd878254",
   "metadata": {},
   "source": [
    "**Question:** Query the first two rows of the **Dragon** table."
   ]
  },
  {
   "cell_type": "code",
   "execution_count": null,
   "id": "afc34d86-ab22-4b0b-aad2-959247fe2494",
   "metadata": {
    "scrolled": true
   },
   "outputs": [],
   "source": []
  },
  {
   "cell_type": "markdown",
   "id": "d5e95373",
   "metadata": {},
   "source": [
    "**Question:** Query the two rows after the first row of the **Dragon** table. "
   ]
  },
  {
   "cell_type": "code",
   "execution_count": null,
   "id": "80802839-9169-4768-b2b1-49368ded674b",
   "metadata": {
    "scrolled": true
   },
   "outputs": [],
   "source": []
  },
  {
   "cell_type": "markdown",
   "id": "62f0b944-eead-44e7-8c3c-35a2326cbe01",
   "metadata": {},
   "source": [
    "## Grouping Data with `GROUP BY`"
   ]
  },
  {
   "cell_type": "markdown",
   "id": "24366843",
   "metadata": {},
   "source": [
    "**Question:** Get all rows and columns of the **Dish** table. "
   ]
  },
  {
   "cell_type": "code",
   "execution_count": null,
   "id": "660cd78d-7639-4875-aa3e-7a840d0d37a4",
   "metadata": {},
   "outputs": [],
   "source": []
  },
  {
   "cell_type": "markdown",
   "id": "bb8b961a-57d6-4488-aa2a-e14e82e30f35",
   "metadata": {},
   "source": [
    "A small note: the fact that `type` is highlighted in green below is a consequence of Jupyter assuming that we are writing Python code (where `type` is a built-in keyword). `type` does *not* have a special meaning in SQL, so the color below does not indicate any special functionality. When we run the cell, Jupyter realizes it should recognize the code as SQL. "
   ]
  },
  {
   "cell_type": "markdown",
   "id": "f3e32b68",
   "metadata": {},
   "source": [
    "**Question:** Select the **type** column of the **Dish** table. "
   ]
  },
  {
   "cell_type": "code",
   "execution_count": null,
   "id": "b8fdab3a-0f93-4e39-b344-3a5068ae228b",
   "metadata": {},
   "outputs": [],
   "source": []
  },
  {
   "cell_type": "markdown",
   "id": "63b07a6a",
   "metadata": {},
   "source": [
    "**Question:** Get all the dish types using GROUP BY. "
   ]
  },
  {
   "cell_type": "code",
   "execution_count": null,
   "id": "6369bcf3-c7ae-46e3-8b63-c6adfd6e9611",
   "metadata": {},
   "outputs": [],
   "source": []
  },
  {
   "cell_type": "markdown",
   "id": "6afc10c9",
   "metadata": {},
   "source": [
    "**Question:** Query the total cost of each type of dish. "
   ]
  },
  {
   "cell_type": "code",
   "execution_count": null,
   "id": "50792e27-c504-43a3-9e65-a1f2aa891828",
   "metadata": {},
   "outputs": [],
   "source": []
  },
  {
   "cell_type": "markdown",
   "id": "2d1f51f0",
   "metadata": {},
   "source": [
    "**Question:** Query the total cost, the minimum cost and the name of the most expensive dish of each type. "
   ]
  },
  {
   "cell_type": "code",
   "execution_count": null,
   "id": "cd7495a5-0008-49ba-abb7-4e9da953f5a6",
   "metadata": {},
   "outputs": [],
   "source": []
  },
  {
   "cell_type": "markdown",
   "id": "dce92844",
   "metadata": {},
   "source": [
    "**Question:** Count the number of rows in each year in the **Dragon** table. "
   ]
  },
  {
   "cell_type": "code",
   "execution_count": null,
   "id": "342216ee-2ee0-477f-978c-f5e817ab9dd8",
   "metadata": {
    "scrolled": true
   },
   "outputs": [],
   "source": []
  },
  {
   "cell_type": "markdown",
   "id": "72be982a",
   "metadata": {},
   "source": [
    "**Question:** Count the number of rows - including the rows with NULLs - in each year in the **Dragon** table. "
   ]
  },
  {
   "cell_type": "code",
   "execution_count": null,
   "id": "17fbbb43-1b95-4756-9446-ae8cfaa8e7ad",
   "metadata": {},
   "outputs": [],
   "source": []
  }
 ],
 "metadata": {
  "kernelspec": {
   "display_name": "Python 3 (ipykernel)",
   "language": "python",
   "name": "python3"
  },
  "language_info": {
   "codemirror_mode": {
    "name": "ipython",
    "version": 3
   },
   "file_extension": ".py",
   "mimetype": "text/x-python",
   "name": "python",
   "nbconvert_exporter": "python",
   "pygments_lexer": "ipython3",
   "version": "3.11.5"
  }
 },
 "nbformat": 4,
 "nbformat_minor": 5
}
