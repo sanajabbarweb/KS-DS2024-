{
 "cells": [
  {
   "cell_type": "markdown",
   "id": "31f40da4-66a9-4260-a6d6-5bc9e3e8e0f7",
   "metadata": {},
   "source": [
    "# SQL II\n",
    "\n",
    "Exploring advanced SQL syntax.\n",
    "\n",
    "### Loading the Data\n",
    "In this lecture, we'll continue our work with the `Dish` table. In the cells below, we connect to the database and query the table."
   ]
  },
  {
   "cell_type": "code",
   "execution_count": null,
   "id": "c02424df-1496-494b-b64b-48c06701588e",
   "metadata": {},
   "outputs": [],
   "source": [
    "%load_ext sql"
   ]
  },
  {
   "cell_type": "code",
   "execution_count": null,
   "id": "783d46d6-f62e-474c-ac21-6145256e397f",
   "metadata": {
    "scrolled": true
   },
   "outputs": [],
   "source": [
    "%%sql\n",
    "sqlite:///data/basic_examples.db"
   ]
  },
  {
   "cell_type": "markdown",
   "id": "82e34d4e",
   "metadata": {},
   "source": [
    "**Question**: Query the entire **Dish** table."
   ]
  },
  {
   "cell_type": "code",
   "execution_count": null,
   "id": "708a6551-d44b-4359-9598-90ed2f58c06d",
   "metadata": {},
   "outputs": [],
   "source": []
  },
  {
   "cell_type": "markdown",
   "id": "16166fbe-6b8c-4ec9-a8bd-7e229f6d2ce9",
   "metadata": {},
   "source": [
    "### Filtering Groups Using `HAVING`"
   ]
  },
  {
   "cell_type": "markdown",
   "id": "a22e244b",
   "metadata": {},
   "source": [
    "**Question**: Query the total dishes of each type having a maximum cost of less than 8."
   ]
  },
  {
   "cell_type": "code",
   "execution_count": null,
   "id": "b21de9e2-6798-4f3c-bee1-3951dec17ece",
   "metadata": {
    "scrolled": true
   },
   "outputs": [],
   "source": []
  },
  {
   "cell_type": "markdown",
   "id": "65a990bb-1c1e-4833-a631-b06f37bb4ba5",
   "metadata": {},
   "source": [
    "### EDA in SQL\n",
    "\n",
    "Our typical workflow when working with \"big data\" is:\n",
    "* Use SQL to query data from a database\n",
    "* Use Python (with `pandas`) to analyze this data in detail\n",
    "\n",
    "We can, however, still perform simple data cleaning and re-structuring using SQL directly. To do so, we'll consider the `Title` table from the IMDB dataset. We use random ordering here to get a \"snapshot\" of representative rows sampled from throughout the table."
   ]
  },
  {
   "cell_type": "code",
   "execution_count": null,
   "id": "1f714ccc-5085-42fd-bbe1-dd482d2ce468",
   "metadata": {},
   "outputs": [],
   "source": [
    "%%sql\n",
    "sqlite:///data/imdbmini.db"
   ]
  },
  {
   "cell_type": "code",
   "execution_count": null,
   "id": "396d27bc-dec2-4dd2-a52c-03602e2d2bc2",
   "metadata": {},
   "outputs": [],
   "source": [
    "%%sql\n",
    "SELECT *\n",
    "FROM Title\n",
    "ORDER BY RANDOM()\n",
    "LIMIT 10;"
   ]
  },
  {
   "cell_type": "markdown",
   "id": "91dffd1a-ea90-42d8-9fdc-9f9527afa26b",
   "metadata": {},
   "source": [
    "#### Matching Text Using `LIKE`"
   ]
  },
  {
   "cell_type": "markdown",
   "id": "19b9f544",
   "metadata": {},
   "source": [
    "**Question**: Query the title types and primary title names with the primary title including the phrase \"Star Wars\"."
   ]
  },
  {
   "cell_type": "code",
   "execution_count": null,
   "id": "6b33e667-f757-4201-bceb-b0a8535a8bef",
   "metadata": {
    "scrolled": false
   },
   "outputs": [],
   "source": []
  },
  {
   "cell_type": "markdown",
   "id": "05684e2d",
   "metadata": {},
   "source": [
    "_ means “look for exactly 1 character”"
   ]
  },
  {
   "cell_type": "code",
   "execution_count": null,
   "id": "1b3b7f67-ffc9-400f-9149-b5819b76110e",
   "metadata": {},
   "outputs": [],
   "source": [
    "%%sql\n",
    "SELECT titleType, primaryTitle\n",
    "FROM Title\n",
    "WHERE primaryTitle LIKE \"Harry Potter and the Deathly Hallows: Part _\""
   ]
  },
  {
   "cell_type": "markdown",
   "id": "0672546d-cc65-4391-80f1-0f42f451e42b",
   "metadata": {
    "tags": []
   },
   "source": [
    "#### Converting Data Types Using `CAST`"
   ]
  },
  {
   "cell_type": "markdown",
   "id": "e5630dd6",
   "metadata": {},
   "source": [
    "**Question**: Query the primary title and runtime (cast as integer) of any 10 movies."
   ]
  },
  {
   "cell_type": "code",
   "execution_count": null,
   "id": "ba80cc38-c5fb-4b2b-8b7b-2564b2657d11",
   "metadata": {},
   "outputs": [],
   "source": []
  },
  {
   "cell_type": "markdown",
   "id": "7c3e867f-ef9b-423e-8bb1-1b39d334fc46",
   "metadata": {},
   "source": [
    "### Applying Conditions With `CASE`\n",
    "\n",
    "Here, we return a random order so we can see the various movie ages (otherwise, the top few entries happen to all be old movies)."
   ]
  },
  {
   "cell_type": "markdown",
   "id": "9806ff33",
   "metadata": {},
   "source": [
    "**Question**: Classify each movie title as 'new' if it was released before 1950 and 'mid-aged' if was released before 2000; label this column \"movie_age\". Select \"title_type\", \"startYear\" and \"movie_age\" in your query.  "
   ]
  },
  {
   "cell_type": "code",
   "execution_count": null,
   "id": "cad982e9-b13d-42bf-868d-050f45c6d269",
   "metadata": {},
   "outputs": [],
   "source": []
  },
  {
   "cell_type": "markdown",
   "id": "6ddf91ce-a73f-43c9-8698-fa4256b19931",
   "metadata": {},
   "source": [
    "### Joining Tables\n",
    "\n",
    "We combine data from multiple tables by performing a **join**. We will explore joins using the cats database, which includes two tables: `s` and `t`."
   ]
  },
  {
   "cell_type": "code",
   "execution_count": null,
   "id": "91167c90-325b-4367-a295-ce2454c510c0",
   "metadata": {},
   "outputs": [],
   "source": [
    "%%sql\n",
    "sqlite:///data/basic_examples.db"
   ]
  },
  {
   "cell_type": "code",
   "execution_count": null,
   "id": "ecc4e0d4-aca9-41d5-ac80-1db1517b3b12",
   "metadata": {},
   "outputs": [],
   "source": [
    "%%sql\n",
    "SELECT * FROM s;"
   ]
  },
  {
   "cell_type": "code",
   "execution_count": null,
   "id": "1a09a2e0-183f-42e3-92c6-cbc799268ee8",
   "metadata": {},
   "outputs": [],
   "source": [
    "%%sql\n",
    "SELECT * FROM t;"
   ]
  },
  {
   "cell_type": "markdown",
   "id": "117c16ae-866a-41bb-b992-69ab97da61cd",
   "metadata": {},
   "source": [
    "#### Inner Join"
   ]
  },
  {
   "cell_type": "markdown",
   "id": "d0d28390",
   "metadata": {},
   "source": [
    "**Question**: Perform inner join on tables **s** and **t**."
   ]
  },
  {
   "cell_type": "code",
   "execution_count": null,
   "id": "3e5df456-131a-4095-b5e0-fb7a180b9804",
   "metadata": {},
   "outputs": [],
   "source": []
  },
  {
   "cell_type": "markdown",
   "id": "d1270550-9ecf-461d-957b-cbfc00abcd2d",
   "metadata": {},
   "source": [
    "By default, `JOIN`ing without specifying a join type will default to an inner join."
   ]
  },
  {
   "cell_type": "markdown",
   "id": "14531314",
   "metadata": {},
   "source": [
    "**Question**: Perform inner join on tables **s** and **t** without specifying a join type."
   ]
  },
  {
   "cell_type": "code",
   "execution_count": null,
   "id": "5b66c03f-0019-4bae-8481-30d162983bd4",
   "metadata": {},
   "outputs": [],
   "source": []
  },
  {
   "cell_type": "markdown",
   "id": "9f79b59c-d405-4e52-8e9c-5d7a6d091dd5",
   "metadata": {},
   "source": [
    "### Cross Join"
   ]
  },
  {
   "cell_type": "markdown",
   "id": "603de89b",
   "metadata": {},
   "source": [
    "**Question**: Query every possible combination of rows across tables **s** and **t**."
   ]
  },
  {
   "cell_type": "code",
   "execution_count": null,
   "id": "4c1b6b34-60ac-4705-859d-484ef8433bd3",
   "metadata": {},
   "outputs": [],
   "source": []
  },
  {
   "cell_type": "markdown",
   "id": "f48e8f72-0c3b-4017-aeeb-fb4ace5702ee",
   "metadata": {},
   "source": [
    "Conceptually, an inner join is equivalent to a cross join where irrelevant rows are removed."
   ]
  },
  {
   "cell_type": "markdown",
   "id": "70db7355",
   "metadata": {},
   "source": [
    "**Question**: Perform inner join using cross join on tables **s** and **t**."
   ]
  },
  {
   "cell_type": "code",
   "execution_count": null,
   "id": "470b9184-26ba-4c6c-a246-652a513a1414",
   "metadata": {},
   "outputs": [],
   "source": []
  },
  {
   "cell_type": "markdown",
   "id": "c2285365-516a-44f6-9725-5d2dc01168da",
   "metadata": {},
   "source": [
    "#### Left Outer Join"
   ]
  },
  {
   "cell_type": "markdown",
   "id": "d0380101",
   "metadata": {},
   "source": [
    "**Question**: Perform left outer join on tables **s** and **t**."
   ]
  },
  {
   "cell_type": "code",
   "execution_count": null,
   "id": "614453f4-8bef-4712-b8d0-098e710c93bf",
   "metadata": {},
   "outputs": [],
   "source": []
  },
  {
   "cell_type": "markdown",
   "id": "11f57bfd-bc80-4ee3-93ab-605a8fb9d6c3",
   "metadata": {},
   "source": [
    "#### Right Outer Join"
   ]
  },
  {
   "cell_type": "markdown",
   "id": "3dfe63e8",
   "metadata": {},
   "source": [
    "**Question**: Perform right outer join on tables **s** and **t**."
   ]
  },
  {
   "cell_type": "code",
   "execution_count": null,
   "id": "4fb1a370-0977-437a-a7c1-a0928c923d8d",
   "metadata": {},
   "outputs": [],
   "source": []
  },
  {
   "cell_type": "markdown",
   "id": "49a5f50b-58c9-4dc6-830b-dc95706135eb",
   "metadata": {
    "tags": []
   },
   "source": [
    "#### Full Outer Join"
   ]
  },
  {
   "cell_type": "markdown",
   "id": "f4c358c8",
   "metadata": {},
   "source": [
    "**Question**: Perform full outer join on tables **s** and **t**."
   ]
  },
  {
   "cell_type": "code",
   "execution_count": null,
   "id": "11c7ba06-37c0-432f-9aa7-d36c5893b0f7",
   "metadata": {},
   "outputs": [],
   "source": []
  },
  {
   "cell_type": "markdown",
   "id": "c1d48296-f9b7-4b92-9b23-5f3f158a800b",
   "metadata": {},
   "source": [
    "#### Aliasing in Joins\n",
    "\n",
    "Let's return to the IMDB dataset. Now, we'll consider two tables: `Title` and `Rating`."
   ]
  },
  {
   "cell_type": "code",
   "execution_count": null,
   "id": "302a496a-d57f-4561-877d-42f998c43b12",
   "metadata": {},
   "outputs": [],
   "source": [
    "%%sql\n",
    "sqlite:///data/imdbmini.db"
   ]
  },
  {
   "cell_type": "markdown",
   "id": "604954fa-7fc4-436d-aaa9-7c6e8f815ed5",
   "metadata": {},
   "source": [
    "When working with tables that have long names, we often create an **alias** using the `AS` keyword (much like we did with columns in the previous lecture). This makes it easier to reference these tables when performing a join."
   ]
  },
  {
   "cell_type": "markdown",
   "id": "7bbc255a",
   "metadata": {},
   "source": [
    "**Question**: Perform inner join on tables **Title** (alias T) and **Rating** (alias R)."
   ]
  },
  {
   "cell_type": "code",
   "execution_count": null,
   "id": "00d37a0f-47ec-4ca5-9cd2-77a4dc5ec83e",
   "metadata": {},
   "outputs": [],
   "source": []
  },
  {
   "cell_type": "markdown",
   "id": "3ea4cf36-1467-4dd4-b704-f9da045ad153",
   "metadata": {},
   "source": [
    "Referencing columns using the full or aliased table name is important to avoid ambiguity. Suppose the tables we are trying to join both include a column with the same name, like the `tconst` columns present in both the `Title` and `Rating` tables of the IMDB database. If we do not specify which table's column we wish to reference, SQL will not be able to process our query.\n",
    "\n",
    "In the cell below, it is unclear if we are referring to the `tconst` column from the `Title` table or the `tconst` column from the `Rating` table. SQL errors."
   ]
  },
  {
   "cell_type": "code",
   "execution_count": null,
   "id": "15764ee7-ca47-4247-85cf-8e829fe4cc00",
   "metadata": {},
   "outputs": [],
   "source": [
    "%%sql\n",
    "SELECT primaryTitle, averageRating\n",
    "FROM Title AS T INNER JOIN Rating AS R\n",
    "ON tconst = tconst;"
   ]
  }
 ],
 "metadata": {
  "kernelspec": {
   "display_name": "Python 3 (ipykernel)",
   "language": "python",
   "name": "python3"
  },
  "language_info": {
   "codemirror_mode": {
    "name": "ipython",
    "version": 3
   },
   "file_extension": ".py",
   "mimetype": "text/x-python",
   "name": "python",
   "nbconvert_exporter": "python",
   "pygments_lexer": "ipython3",
   "version": "3.11.5"
  }
 },
 "nbformat": 4,
 "nbformat_minor": 5
}
