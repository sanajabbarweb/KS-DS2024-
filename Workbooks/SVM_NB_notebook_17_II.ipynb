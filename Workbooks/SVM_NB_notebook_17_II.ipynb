{
  "nbformat": 4,
  "nbformat_minor": 0,
  "metadata": {
    "colab": {
      "provenance": []
    },
    "kernelspec": {
      "name": "python3",
      "display_name": "Python 3"
    },
    "language_info": {
      "name": "python"
    }
  },
  "cells": [
    {
      "cell_type": "code",
      "execution_count": null,
      "metadata": {
        "id": "-2ByCiDHl42k"
      },
      "outputs": [],
      "source": [
        "# Load libraries\n",
        "# Import Support vetor machine and naive bais Classifier\n",
        "# Import train_test_split function\n",
        "#Import scikit-learn metrics module for accuracy calculation\n"
      ]
    },
    {
      "cell_type": "code",
      "source": [
        "# load dataset\n"
      ],
      "metadata": {
        "id": "U335Wdp4l_M3"
      },
      "execution_count": null,
      "outputs": []
    },
    {
      "cell_type": "code",
      "source": [
        "pima.head()\n"
      ],
      "metadata": {
        "id": "ZYrWt0zFmDaM"
      },
      "execution_count": null,
      "outputs": []
    },
    {
      "cell_type": "code",
      "source": [
        "#split dataset in features and target variable\n",
        "\n",
        "# Features\n",
        "# Target variable\n",
        "# perform features selection\n",
        "\n"
      ],
      "metadata": {
        "id": "G171hcNdmIau"
      },
      "execution_count": null,
      "outputs": []
    },
    {
      "cell_type": "code",
      "source": [
        "# Split dataset into training set and test set\n"
      ],
      "metadata": {
        "id": "K1U1QsGPmK6W"
      },
      "execution_count": null,
      "outputs": []
    },
    {
      "cell_type": "code",
      "source": [
        "# Create SVM and NB classifer object\n",
        "\n",
        "# Train Decision Tree Classifer\n",
        "\n",
        "\n",
        "#Predict the response for test dataset\n"
      ],
      "metadata": {
        "id": "Ot36mKqImOPs"
      },
      "execution_count": null,
      "outputs": []
    },
    {
      "cell_type": "code",
      "source": [
        "# Model Accuracy, how often is the classifier correct?\n"
      ],
      "metadata": {
        "id": "iBlmp1bLmR9X"
      },
      "execution_count": null,
      "outputs": []
    },
    {
      "cell_type": "code",
      "source": [
        "\n"
      ],
      "metadata": {
        "id": "HF872V8jmZOU"
      },
      "execution_count": null,
      "outputs": []
    }
  ]
}