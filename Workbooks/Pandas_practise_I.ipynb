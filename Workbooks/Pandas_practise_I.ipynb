{
  "cells": [
    {
      "cell_type": "code",
      "execution_count": null,
      "metadata": {
        "id": "6PIse7FRFVO2"
      },
      "outputs": [],
      "source": [
        "%matplotlib inline\n",
        "import matplotlib.pyplot as plt\n",
        "import seaborn as sns\n",
        "import numpy as np\n",
        "import pandas as pd\n",
        "from IPython.display import display\n",
        "from IPython.display import Image\n",
        "sns.set_context(\"notebook\")"
      ]
    },
    {
      "cell_type": "code",
      "source": [
        "from google.colab import drive\n",
        "drive.mount('/content/drive')"
      ],
      "metadata": {
        "colab": {
          "base_uri": "https://localhost:8080/"
        },
        "id": "61hY5_a-K1bi",
        "outputId": "c92c9405-4629-40a8-ea8c-46e50df92906"
      },
      "execution_count": null,
      "outputs": [
        {
          "output_type": "stream",
          "name": "stdout",
          "text": [
            "Mounted at /content/drive\n"
          ]
        }
      ]
    },
    {
      "cell_type": "markdown",
      "source": [
        "# Extracting Data and Filtering\n",
        ":The `[]` operator supports array of booleans as an input. In this case, the array must be exactly as long as the number of rows.\n",
        "\n",
        "The result is a **filtered version of the data frame**, where **only rows corresponding to True appear**.\n",
        "\n",
        "# Q1.\n",
        "Select multiple criteria by creating multiple boolean Series and combining them using the `&` operator. For Examole Result is win and %win is more than 50."
      ],
      "metadata": {
        "id": "Do3KBRcu3Ee2"
      }
    },
    {
      "cell_type": "code",
      "source": [
        "elections = pd.read_csv(\"/content/drive/MyDrive/elections.csv\") # reading a CSV file into a data frame\n",
        "# Answer Here"
      ],
      "metadata": {
        "id": "n6ahrlX728Fb"
      },
      "execution_count": null,
      "outputs": []
    },
    {
      "cell_type": "markdown",
      "metadata": {
        "id": "Qpjba2Q-FVO3"
      },
      "source": [
        "We will nowe work with a dataset containing the names of all babies born in California, USA. Visit the [Social Security Adminisitration Website](https://www.ssa.gov/oact/babynames/limits.html) for more details about the dataset if you want."
      ]
    },
    {
      "cell_type": "markdown",
      "metadata": {
        "id": "8Cy00jhFFVO4"
      },
      "source": [
        "**Let's start by loading the Baby Names dataset.**"
      ]
    },
    {
      "cell_type": "code",
      "execution_count": null,
      "metadata": {
        "id": "9VAZe6aBFVO4"
      },
      "outputs": [],
      "source": [
        "import urllib.request\n",
        "import os.path\n",
        "import zipfile\n",
        "import pandas as pd\n",
        "\n",
        "data_url = \"https://www.ssa.gov/oact/babynames/state/namesbystate.zip\"\n",
        "local_filename = \"babynamesbystate.zip\"\n",
        "if not os.path.exists(local_filename): # if the data exists don't download again\n",
        "    with urllib.request.urlopen(data_url) as resp, open(local_filename, 'wb') as f:\n",
        "        f.write(resp.read())\n",
        "\n",
        "zf = zipfile.ZipFile(local_filename, 'r')\n",
        "\n",
        "ca_name = 'STATE.CA.TXT'\n",
        "field_names = ['State', 'Sex', 'Year', 'Name', 'Count']\n",
        "with zf.open(ca_name) as fh:\n",
        "    babynames = pd.read_csv(fh, header=None, names=field_names)\n",
        "\n",
        "babynames.head(15)"
      ]
    },
    {
      "cell_type": "markdown",
      "source": [
        "# Q2.\n",
        "Calculate the some statics of babynames DataFrame using Utility Functions, like .describe(), .size(), .shape() and report your analysis in comments"
      ],
      "metadata": {
        "id": "6WTNw56KfRA2"
      }
    },
    {
      "cell_type": "code",
      "execution_count": null,
      "metadata": {
        "id": "WOX88FOSFVO5"
      },
      "outputs": [],
      "source": [
        "#Answer Here"
      ]
    },
    {
      "cell_type": "markdown",
      "source": [
        "# Q.3:\n",
        "\n",
        "Using the babynames DataFrame that contains baby names data for the state of California, how can you use the 'isin' method to find out which records have names that are in a given list of names, such as \"Emma,\" \"Liam,\" and \"Olivia,\" and what would be the output of this operation when applied to the first 15 rows of the DataFrame (babynames.head(15))?"
      ],
      "metadata": {
        "id": "SfH7STDBhWC7"
      }
    },
    {
      "cell_type": "code",
      "source": [
        "# List of names to check\n",
        "\n",
        "\n",
        "# Use the isin method to filter records with names in the name_list\n",
        "\n",
        "# Display the filtered DataFrame\n"
      ],
      "metadata": {
        "id": "hqBOidu2hpCh"
      },
      "execution_count": null,
      "outputs": []
    },
    {
      "cell_type": "markdown",
      "source": [
        "# Q.4:\n",
        "How can you use the 'str.startswith' method in pandas to filter records in a babyname DataFrame? Provide an example code using the babynames DataFrame and explain how this method can be employed to extract data for baby names that begin with 'A' or 'B' set of letters."
      ],
      "metadata": {
        "id": "3LdJ07oPinL7"
      }
    },
    {
      "cell_type": "code",
      "source": [
        "# Filter rows where the 'Name' column starts with 'A' Or 'B'\n",
        "\n",
        "\n",
        "# Display the filtered DataFrame\n"
      ],
      "metadata": {
        "id": "tVqVmJ4ajln9"
      },
      "execution_count": null,
      "outputs": []
    },
    {
      "cell_type": "markdown",
      "metadata": {
        "id": "pMQ3UZysFVO6"
      },
      "source": [
        "# Q.5\n",
        "\n",
        "Find the most popular baby name in California in 2012\n",
        "\n",
        "__Exercise__: Try to find the most popular baby name by finding the maximum value for 'Count' and then apply filtering to find the name.\n"
      ]
    },
    {
      "cell_type": "code",
      "execution_count": null,
      "metadata": {
        "id": "hZxRzE-FFVO6"
      },
      "outputs": [],
      "source": [
        "# Use sort_values function"
      ]
    },
    {
      "cell_type": "markdown",
      "metadata": {
        "id": "oENLC2gLFVO7"
      },
      "source": [
        "# Q. 6\n",
        "Find baby names that start with J, in th Year from 2001 to 2019\n",
        "\n",
        "*Note: To answer this question, we need a way to look at the individual characters of the baby names*"
      ]
    },
    {
      "cell_type": "code",
      "execution_count": null,
      "metadata": {
        "id": "Z2wBuGwyFVO7"
      },
      "outputs": [],
      "source": [
        "# Answer Here"
      ]
    },
    {
      "cell_type": "markdown",
      "source": [
        "# Q.7\n",
        "Add a new column called \"name_length\" to the babynames DataFrame, you can use .str.len() in existing Name column. Moreover. also modify the Length values with new values like existing_value-1 and rename the length column with new label as desceribe in slides.\n",
        "\n"
      ],
      "metadata": {
        "id": "8RiGrIV-mIbP"
      }
    },
    {
      "cell_type": "code",
      "source": [
        "# Calculate the length of each name and add it as a new column \"_length\"\n",
        "\n",
        "\n",
        "# Change lenght value of each name\n",
        "\n",
        "# Rename the \"_length\" column to \"Length\"\n",
        "\n",
        "# Drop the  \"Length\" column\n",
        "\n"
      ],
      "metadata": {
        "id": "SQEAYy8Jm8lu"
      },
      "execution_count": null,
      "outputs": []
    },
    {
      "cell_type": "markdown",
      "source": [
        "# Q.8\n",
        "\n",
        "Use .str.split() to sample the names with 'ad' string and show first 10 samples."
      ],
      "metadata": {
        "id": "1S_7ZKySo6CS"
      }
    },
    {
      "cell_type": "code",
      "execution_count": null,
      "metadata": {
        "id": "6ljvNnGxFVO9"
      },
      "outputs": [],
      "source": [
        "# use str.contains() function\n"
      ]
    },
    {
      "cell_type": "markdown",
      "metadata": {
        "id": "xpvkVZSmFVO9"
      },
      "source": [
        "More on str methods when we'll study regular expressions in this course. Note that there are other approaches that we can use to find the same answer as above."
      ]
    },
    {
      "cell_type": "code",
      "source": [
        "# Create a boolean mask for rows containing 'ad' in the \"Name\" column\n",
        "\n",
        "\n",
        "# Use the mask to select rows and sample 5 random rows\n"
      ],
      "metadata": {
        "id": "_Mf-crJ54KFQ"
      },
      "execution_count": null,
      "outputs": []
    },
    {
      "cell_type": "markdown",
      "metadata": {
        "id": "RmQtaxLnFVO9"
      },
      "source": [
        "# Q.9\n",
        " Sort names by their length."
      ]
    },
    {
      "cell_type": "markdown",
      "metadata": {
        "id": "L7kJKsSoFVO9"
      },
      "source": [
        "In the babynames DataFrame, which baby name appears most frequently across all years and states, and how can you use pandas to find this information? Provide the code and steps to determine the most popular baby name in the dataset."
      ]
    },
    {
      "cell_type": "code",
      "source": [
        "\n",
        "\n",
        "# Group the data by \"Name\" and sum the \"Count\" for each name\n",
        "\n",
        "\n",
        "# Find the name with the highest total count\n",
        "\n",
        "\n",
        "# Display the most popular name and its count\n"
      ],
      "metadata": {
        "id": "y8Zyi2pVqts2"
      },
      "execution_count": null,
      "outputs": []
    },
    {
      "cell_type": "markdown",
      "source": [
        "# Q.10\n",
        "\n",
        "1: How can you use the .sample() method to randomly select a single row from the babynames DataFrame, and what is the purpose of such a selection?\n",
        "\n",
        "2: Suppose you want to generate a random sample of 10 baby names from the babynames DataFrame. How would you use the .sample() method to achieve this, and what parameters or arguments would you specify?\n",
        "\n",
        "3: In a scenario where you need to ensure reproducibility, explain how you can set a random seed when using the .sample() method in pandas.\n",
        "\n",
        "4: You want to perform a bootstrap resampling analysis on the baby names data in the babynames DataFrame. Describe how you can repeatedly sample with replacement using .sample() to create multiple bootstrap samples for statistical analysis.\n",
        "\n",
        "Performing a bootstrap resampling analysis on the baby names data in the babynames DataFrame involves repeatedly drawing random samples with replacement from the dataset to create multiple samples that simulate the population. This process allows you to estimate the sampling distribution of a statistic, make inferences, and perform statistical analysis. Bootstrap provides a straightforward way to calculate confidence intervals for a statistic."
      ],
      "metadata": {
        "id": "C_YBsLEWquYO"
      }
    },
    {
      "cell_type": "code",
      "source": [
        "#Answer Here\n",
        "\n",
        "\n",
        "# For 3rd part Set a random seed (e.g., 34) before using .sample()\n",
        "# Perform random sampling using .sample()\n",
        "\n",
        "\n",
        "# For 4th Part\n",
        "\n",
        "\n",
        "# Assuming you have the 'babynames' DataFrame\n",
        "\n",
        "# Set the random seed for reproducibility\n",
        "\n",
        "\n",
        "# Number of bootstrap samples\n",
        "num_samples = 1000\n",
        "\n",
        "# Sample size (same as the original dataset)\n",
        "\n",
        "\n",
        "# Initialize a list to store bootstrap sample statistics\n",
        "\n",
        "\n",
        "# Perform bootstrapping\n",
        "\n",
        "    # Generate a bootstrap sample with replacement\n",
        "\n",
        "    # Perform your statistical analysis on the bootstrap sample here\n",
        "    # For example, you can calculate the mean, median, or other statistics\n",
        "\n",
        "    # Append the statistic of interest (mean of baby count for each name) to the list\n",
        "\n"
      ],
      "metadata": {
        "id": "zUuIGtbjq67o"
      },
      "execution_count": null,
      "outputs": []
    },
    {
      "cell_type": "markdown",
      "metadata": {
        "id": "5O39msrBFVO-"
      },
      "source": [
        "# Q.11\n",
        "1: The code randomly mixes up the list of baby names. Why might someone want to do this, and how could it affect the analysis of the names?\n",
        "\n",
        "2: After mixing, the code figures out how long each baby name is. Why would we care about name lengths, and what can this tell us about the names?\n",
        "\n",
        "3: The code arranges the name lengths from longest to shortest. Why might we want to do this, and what could it help us find in the data?\n",
        "\n",
        "4: The code finds the order of baby names based on their lengths and shows us the first few names in this new order. When might we need to organize names this way, and what might we discover from the first few names in this order?\n"
      ]
    },
    {
      "cell_type": "code",
      "execution_count": null,
      "metadata": {
        "id": "-lyTRJMeFVO-"
      },
      "outputs": [],
      "source": [
        "#Part1, shuffling can be done using sample(frac=1)\n",
        "\n",
        "#Part2\n",
        "\n",
        "#Part3\n",
        "\n",
        "#Part4\n"
      ]
    }
  ],
  "metadata": {
    "kernelspec": {
      "display_name": "Python 3",
      "language": "python",
      "name": "python3"
    },
    "language_info": {
      "codemirror_mode": {
        "name": "ipython",
        "version": 3
      },
      "file_extension": ".py",
      "mimetype": "text/x-python",
      "name": "python",
      "nbconvert_exporter": "python",
      "pygments_lexer": "ipython3",
      "version": "3.7.13"
    },
    "vscode": {
      "interpreter": {
        "hash": "7a3d88c904243d2c3f246166597f86d1c0a39f3d97496d1fe394945d0c6d436d"
      }
    },
    "colab": {
      "provenance": []
    }
  },
  "nbformat": 4,
  "nbformat_minor": 0
}