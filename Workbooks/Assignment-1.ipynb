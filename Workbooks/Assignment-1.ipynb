{
 "cells": [
  {
   "cell_type": "markdown",
   "metadata": {},
   "source": [
    "<h1>Assignment 2 (Part 1) <h1>"
   ]
  },
  {
   "cell_type": "code",
   "execution_count": 22,
   "metadata": {},
   "outputs": [],
   "source": [
    "#Please run the cell below to perfrom all the necessary imports\n",
    "import pandas as pd\n",
    "import matplotlib.pyplot as plt\n",
    "import numpy as np\n",
    "import seaborn as sns"
   ]
  },
  {
   "cell_type": "markdown",
   "metadata": {},
   "source": [
    "In this Assignment we will focus more on data cleaning and generating appropriate visualizations from the `neflix_tiltes1` dataset. <br/>\n",
    "So after completing this part of the assignment you might be able to generate useful information from any given dataset."
   ]
  },
  {
   "cell_type": "markdown",
   "metadata": {},
   "source": [
    "Please use the cell below to import the dataset into the variable `netflixDataset`."
   ]
  },
  {
   "cell_type": "code",
   "execution_count": 23,
   "metadata": {},
   "outputs": [
    {
     "data": {
      "text/html": [
       "<div>\n",
       "<style scoped>\n",
       "    .dataframe tbody tr th:only-of-type {\n",
       "        vertical-align: middle;\n",
       "    }\n",
       "\n",
       "    .dataframe tbody tr th {\n",
       "        vertical-align: top;\n",
       "    }\n",
       "\n",
       "    .dataframe thead th {\n",
       "        text-align: right;\n",
       "    }\n",
       "</style>\n",
       "<table border=\"1\" class=\"dataframe\">\n",
       "  <thead>\n",
       "    <tr style=\"text-align: right;\">\n",
       "      <th></th>\n",
       "      <th>show_id</th>\n",
       "      <th>tyPe</th>\n",
       "      <th>title</th>\n",
       "      <th>director!!!</th>\n",
       "      <th>cAst</th>\n",
       "      <th>countRy</th>\n",
       "      <th>daTe_adDed</th>\n",
       "      <th>rElese_year</th>\n",
       "      <th>ratIng</th>\n",
       "      <th>duratOn</th>\n",
       "      <th>listEd_In</th>\n",
       "      <th>desCripTion</th>\n",
       "    </tr>\n",
       "  </thead>\n",
       "  <tbody>\n",
       "    <tr>\n",
       "      <th>0</th>\n",
       "      <td>s1</td>\n",
       "      <td>Movie</td>\n",
       "      <td>Dick Johnson Is Dead</td>\n",
       "      <td>Kirsten Johnson!!!</td>\n",
       "      <td>NaN</td>\n",
       "      <td>United States</td>\n",
       "      <td>September 25, 2021</td>\n",
       "      <td>2020</td>\n",
       "      <td>PG-13</td>\n",
       "      <td>90 min</td>\n",
       "      <td>Documentaries</td>\n",
       "      <td>As her father nears the end of his life, filmm...</td>\n",
       "    </tr>\n",
       "    <tr>\n",
       "      <th>1</th>\n",
       "      <td>s2</td>\n",
       "      <td>TV Show</td>\n",
       "      <td>Blood &amp; Water</td>\n",
       "      <td>NaN</td>\n",
       "      <td>Ama Qamata, Khosi Ngema, Gail Mabalane, Thaban...</td>\n",
       "      <td>South Africa</td>\n",
       "      <td>September 24, 2021</td>\n",
       "      <td>2021</td>\n",
       "      <td>TV-MA</td>\n",
       "      <td>2 Seasons</td>\n",
       "      <td>International TV Shows, TV Dramas, TV Mysteries</td>\n",
       "      <td>After crossing paths at a party, a Cape Town t...</td>\n",
       "    </tr>\n",
       "    <tr>\n",
       "      <th>2</th>\n",
       "      <td>s3</td>\n",
       "      <td>TV Show</td>\n",
       "      <td>Ganglands</td>\n",
       "      <td>Julien Leclercq!!!</td>\n",
       "      <td>Sami Bouajila, Tracy Gotoas, Samuel Jouy, Nabi...</td>\n",
       "      <td>NaN</td>\n",
       "      <td>September 24, 2021</td>\n",
       "      <td>2021</td>\n",
       "      <td>TV-MA</td>\n",
       "      <td>1 Season</td>\n",
       "      <td>Crime TV Shows, International TV Shows, TV Act...</td>\n",
       "      <td>To protect his family from a powerful drug lor...</td>\n",
       "    </tr>\n",
       "    <tr>\n",
       "      <th>3</th>\n",
       "      <td>s4</td>\n",
       "      <td>TV Show</td>\n",
       "      <td>Jailbirds New Orleans</td>\n",
       "      <td>NaN</td>\n",
       "      <td>NaN</td>\n",
       "      <td>NaN</td>\n",
       "      <td>September 24, 2021</td>\n",
       "      <td>2021</td>\n",
       "      <td>TV-MA</td>\n",
       "      <td>1 Season</td>\n",
       "      <td>Docuseries, Reality TV</td>\n",
       "      <td>Feuds, flirtations and toilet talk go down amo...</td>\n",
       "    </tr>\n",
       "    <tr>\n",
       "      <th>4</th>\n",
       "      <td>s5</td>\n",
       "      <td>TV Show</td>\n",
       "      <td>Kota Factory</td>\n",
       "      <td>NaN</td>\n",
       "      <td>Mayur More, Jitendra Kumar, Ranjan Raj, Alam K...</td>\n",
       "      <td>India</td>\n",
       "      <td>September 24, 2021</td>\n",
       "      <td>2021</td>\n",
       "      <td>TV-MA</td>\n",
       "      <td>2 Seasons</td>\n",
       "      <td>International TV Shows, Romantic TV Shows, TV ...</td>\n",
       "      <td>In a city of coaching centers known to train I...</td>\n",
       "    </tr>\n",
       "  </tbody>\n",
       "</table>\n",
       "</div>"
      ],
      "text/plain": [
       "  show_id     tyPe                  title         director!!!  \\\n",
       "0      s1    Movie   Dick Johnson Is Dead  Kirsten Johnson!!!   \n",
       "1      s2  TV Show          Blood & Water                 NaN   \n",
       "2      s3  TV Show              Ganglands  Julien Leclercq!!!   \n",
       "3      s4  TV Show  Jailbirds New Orleans                 NaN   \n",
       "4      s5  TV Show           Kota Factory                 NaN   \n",
       "\n",
       "                                                cAst        countRy  \\\n",
       "0                                                NaN  United States   \n",
       "1  Ama Qamata, Khosi Ngema, Gail Mabalane, Thaban...   South Africa   \n",
       "2  Sami Bouajila, Tracy Gotoas, Samuel Jouy, Nabi...            NaN   \n",
       "3                                                NaN            NaN   \n",
       "4  Mayur More, Jitendra Kumar, Ranjan Raj, Alam K...          India   \n",
       "\n",
       "           daTe_adDed  rElese_year ratIng    duratOn  \\\n",
       "0  September 25, 2021         2020  PG-13     90 min   \n",
       "1  September 24, 2021         2021  TV-MA  2 Seasons   \n",
       "2  September 24, 2021         2021  TV-MA   1 Season   \n",
       "3  September 24, 2021         2021  TV-MA   1 Season   \n",
       "4  September 24, 2021         2021  TV-MA  2 Seasons   \n",
       "\n",
       "                                           listEd_In  \\\n",
       "0                                      Documentaries   \n",
       "1    International TV Shows, TV Dramas, TV Mysteries   \n",
       "2  Crime TV Shows, International TV Shows, TV Act...   \n",
       "3                             Docuseries, Reality TV   \n",
       "4  International TV Shows, Romantic TV Shows, TV ...   \n",
       "\n",
       "                                         desCripTion  \n",
       "0  As her father nears the end of his life, filmm...  \n",
       "1  After crossing paths at a party, a Cape Town t...  \n",
       "2  To protect his family from a powerful drug lor...  \n",
       "3  Feuds, flirtations and toilet talk go down amo...  \n",
       "4  In a city of coaching centers known to train I...  "
      ]
     },
     "execution_count": 23,
     "metadata": {},
     "output_type": "execute_result"
    }
   ],
   "source": [
    "#Use this cell to familiarize yourself with the dataset such as the shape of the dataset and the columns\n",
    "netflixDataset = ...\n",
    "netflixDataset = pd.read_csv('netflix_titles1.csv')\n",
    "netflixDataset.head()"
   ]
  },
  {
   "attachments": {},
   "cell_type": "markdown",
   "metadata": {},
   "source": [
    "**Question :** Remove the word `s` from each entry of the column `show_id` and convert each entry into `int` datatype.<br/> You are to reflect the changes inside the same variable i.e `netflixDataset`."
   ]
  },
  {
   "cell_type": "code",
   "execution_count": null,
   "metadata": {},
   "outputs": [],
   "source": [
    "\n"
   ]
  },
  {
   "attachments": {},
   "cell_type": "markdown",
   "metadata": {},
   "source": [
    "**Question :** Make `show_id` the index for the dataframe and the changes must persist in the variable `netflixDataset`."
   ]
  },
  {
   "cell_type": "code",
   "execution_count": null,
   "metadata": {},
   "outputs": [],
   "source": []
  },
  {
   "attachments": {},
   "cell_type": "markdown",
   "metadata": {},
   "source": [
    "**Question :** Check for null values in the dataframe and if they persist drop the null values accordingly.<br/>\n",
    "Your final answer must be present in the variable `netflixDataset`."
   ]
  },
  {
   "cell_type": "code",
   "execution_count": null,
   "metadata": {},
   "outputs": [],
   "source": []
  },
  {
   "attachments": {},
   "cell_type": "markdown",
   "metadata": {},
   "source": [
    "**Question :** As you can see above that after you have dropped the null values from the dataset the index `show_id` is now distorted.<br/>\n",
    "Write a code snippet in the cell below that will reset the index and start it from 1 onwards till the length of the dataframe.<br/>\n",
    "Rename the new index as \"Show ID\" and the changes must persist in the variable `netflixDataset`."
   ]
  },
  {
   "cell_type": "code",
   "execution_count": null,
   "metadata": {},
   "outputs": [],
   "source": []
  },
  {
   "attachments": {},
   "cell_type": "markdown",
   "metadata": {},
   "source": [
    "**Question :** It is always good to have short, representative names of the columns in your dataset. Please rename the columns in such a way that they fulfill the following conditions:\n",
    "<ul>\n",
    "<li>Each column name must start with a capital letter and there must not be any capital letters in the middle or even at the end.</li>\n",
    "<li>There should be no punctuation marks in each of the column names.</li>\n",
    "<li>None of the column names must be mispelled.</li>\n",
    "</ul>"
   ]
  },
  {
   "cell_type": "code",
   "execution_count": null,
   "metadata": {},
   "outputs": [],
   "source": []
  },
  {
   "cell_type": "markdown",
   "metadata": {},
   "source": [
    "**Question 6 :** As you can see there are still some inconsistencies in our data such as in the column of `Director` we have each entry ending with exclamation marks (!!!).<br/>Write a piece of code that would remove the exclamations at the end of each entry in the column."
   ]
  },
  {
   "cell_type": "code",
   "execution_count": null,
   "metadata": {},
   "outputs": [],
   "source": []
  },
  {
   "cell_type": "markdown",
   "metadata": {},
   "source": [
    "**Question 7 :** As you can see that the column `Date_added` has entries in the format (month date, year).<br/>You are to split the column into two different columns such as now one column would contain the `month date` (part) & one would contain the `year` (part). <br/>Rename the new colunmns formed as `Added_year` & `Added_date` which would signify the year & the date in which the entry was made into the dataset above. <br/>\n",
    "<b>Note: </b> After doing the above mentioned operation remember to drop the `Date_added` column in the dataset as it would now be redundant."
   ]
  },
  {
   "cell_type": "code",
   "execution_count": null,
   "metadata": {},
   "outputs": [],
   "source": []
  },
  {
   "attachments": {},
   "cell_type": "markdown",
   "metadata": {},
   "source": [
    "**Question :** Now that we are done with cleaning our data lets generate some useful visualizations from it.<br/>You are to analyse if the platform hosts more movies as compared to that of TV shows by the help of suitable visualization.<br/> "
   ]
  },
  {
   "cell_type": "code",
   "execution_count": null,
   "metadata": {},
   "outputs": [],
   "source": []
  },
  {
   "cell_type": "markdown",
   "metadata": {},
   "source": [
    "**Question 9 :** Now let us check which country is the one that does most of the content creating but for that we might need some to manipulate the data in some way. Follow the steps below to make a suitable visualization:\n",
    "<ul>\n",
    "<li>Make a dictionary `countries` that stores the counts of how much times a country appears corresponding to a movie or a Tv show. </li>\n",
    "<li>Remember that you would have to split the strings in the column as multiple countries might be collaborating to make a movie or a Tv show. </li>\n",
    "<li>Use the dictonary and the respective counts to make a plot that will show us that which country creates the most content that is hosted by netflix </li>\n",
    "</ul>\n",
    "<b>Note: </b>Be mindful of the extra spaces that you will get while splitting the data so you would have to get rid of any extra spaces that you will get in the process. <br/>\n",
    "The helpful functions that you can use are str.replace(), str.rstrip(), str.strip() & str.lstrip().\n"
   ]
  },
  {
   "cell_type": "code",
   "execution_count": null,
   "metadata": {},
   "outputs": [],
   "source": []
  },
  {
   "cell_type": "markdown",
   "metadata": {},
   "source": [
    "**Question 10 :** Now we will analyse the duration of movies and check what is the optimal value for a standard movie on the platform of netflix.<br/>You have studied about kde plots in the lectures of EDA so make a suitable kde plot to visualize and report the most probable duration of movies hosted on the platform. Remember to filter the dataset such that you only have movies in it. <br/>Store the resultant df in the variable `netflixMovies`. Also you would have to convert the strings in the `Duration` column to integers before plotting them using a kde plot."
   ]
  },
  {
   "cell_type": "code",
   "execution_count": null,
   "metadata": {},
   "outputs": [],
   "source": []
  },
  {
   "attachments": {},
   "cell_type": "markdown",
   "metadata": {},
   "source": [
    "**Question :** Repeat the same steps as done in Q9 for TV shows present in our `netflixDataset`."
   ]
  },
  {
   "cell_type": "code",
   "execution_count": null,
   "metadata": {},
   "outputs": [],
   "source": []
  },
  {
   "attachments": {},
   "cell_type": "markdown",
   "metadata": {},
   "source": [
    "**Question :** Lets now categorise and see which type of ratings is watched the most by people using netflix with the help of a suitable visualization. Make use of the variable `netflixMovies` and a plot to ellaborate on your findings. Also you are to store the most watched movie rating inside the variable `mostWatchedMovieRating`. "
   ]
  },
  {
   "cell_type": "code",
   "execution_count": null,
   "metadata": {},
   "outputs": [],
   "source": []
  },
  {
   "attachments": {},
   "cell_type": "markdown",
   "metadata": {},
   "source": [
    "**Question :** Do the same for the TV shows that are offered by netflix and then report the most watched TV show rating in the variable `mostWatchedTvRating`. You are to also include the visualization as made in Q11."
   ]
  },
  {
   "cell_type": "code",
   "execution_count": null,
   "metadata": {},
   "outputs": [],
   "source": []
  }
 ],
 "metadata": {
  "kernelspec": {
   "display_name": "Python 3",
   "language": "python",
   "name": "python3"
  },
  "language_info": {
   "codemirror_mode": {
    "name": "ipython",
    "version": 3
   },
   "file_extension": ".py",
   "mimetype": "text/x-python",
   "name": "python",
   "nbconvert_exporter": "python",
   "pygments_lexer": "ipython3",
   "version": "3.7.13"
  },
  "orig_nbformat": 4,
  "vscode": {
   "interpreter": {
    "hash": "7a3d88c904243d2c3f246166597f86d1c0a39f3d97496d1fe394945d0c6d436d"
   }
  }
 },
 "nbformat": 4,
 "nbformat_minor": 2
}
