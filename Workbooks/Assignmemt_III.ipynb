{
  "nbformat": 4,
  "nbformat_minor": 0,
  "metadata": {
    "colab": {
      "provenance": []
    },
    "kernelspec": {
      "name": "python3",
      "display_name": "Python 3"
    },
    "language_info": {
      "name": "python"
    }
  },
  "cells": [
    {
      "cell_type": "markdown",
      "source": [
        "# Assignment 3\n",
        "\n",
        "\n",
        "**Dataset Name**: Company Sales Data\n",
        "\n",
        "**Dataset Source**: Internal company records\n",
        "\n",
        "Description: This dataset contains records of sales transactions made by customers on our company's online platform. Each row represents a unique transaction, and the dataset includes various attributes related to each transaction.\n",
        "\n",
        "**Columns**:\n",
        "\n",
        "**id**: Unique identifier for each transaction.\n",
        "\n",
        "**product**: Indicates whether the product was recommended (TRUE/FALSE).\n",
        "\n",
        "**shop**: The online shop where the transaction took place.\n",
        "\n",
        "**uid**: Unique user identifier for the customer.\n",
        "\n",
        "**api_key**: API key associated with the transaction (if applicable).\n",
        "\n",
        "**email**: Customer's email address (if available).\n",
        "\n",
        "**order_id**: Unique identifier for the order (if applicable).\n",
        "\n",
        "**created_at**: Date and time when the transaction occurred.\n",
        "\n",
        "**device**: Type of device used for the transaction (e.g., desktop, mobile).\n",
        "\n",
        "**price**: Purchase price for the product.\n",
        "\n",
        "Objective: The objective of this analysis is to gain insights into customer behavior, purchase patterns, and overall sales performance on our platform. We will explore various aspects of the data to inform business decisions and identify opportunities for improvement."
      ],
      "metadata": {
        "id": "xOpYoQZNvo1A"
      }
    },
    {
      "cell_type": "code",
      "source": [
        "# Load Necessary Libraries"
      ],
      "metadata": {
        "id": "GKBdw4Rn1jli"
      },
      "execution_count": null,
      "outputs": []
    },
    {
      "cell_type": "markdown",
      "source": [
        "# Customer Analysis:\n",
        " How many unique customers made purchases?"
      ],
      "metadata": {
        "id": "O6fb7odwuSGf"
      }
    },
    {
      "cell_type": "code",
      "execution_count": null,
      "metadata": {
        "id": "oUs_F6ZDVUa2"
      },
      "outputs": [],
      "source": []
    },
    {
      "cell_type": "markdown",
      "source": [
        "# Purchase Patterns:\n",
        "\n",
        "Question: What is the average purchase price across all transactions?"
      ],
      "metadata": {
        "id": "42IGPQHhudqv"
      }
    },
    {
      "cell_type": "code",
      "source": [],
      "metadata": {
        "id": "JsGu6A4AVzNY"
      },
      "execution_count": null,
      "outputs": []
    },
    {
      "cell_type": "markdown",
      "source": [
        "# Top-Selling Products:\n",
        "\n",
        "Question: What are the top 5 products by the number of units sold?"
      ],
      "metadata": {
        "id": "5mAWgwKxunis"
      }
    },
    {
      "cell_type": "code",
      "source": [
        "\n"
      ],
      "metadata": {
        "id": "Uz-xqgydWFfL"
      },
      "execution_count": null,
      "outputs": []
    },
    {
      "cell_type": "markdown",
      "source": [
        "# Purchase by Device Type:\n",
        "\n",
        "Question: What is the total revenue generated from desktop vs. mobile purchases?"
      ],
      "metadata": {
        "id": "Dzot3dP2u1lZ"
      }
    },
    {
      "cell_type": "code",
      "source": [],
      "metadata": {
        "id": "PtbMfGKeW254"
      },
      "execution_count": null,
      "outputs": []
    },
    {
      "cell_type": "markdown",
      "source": [
        "# Date Analysis:\n",
        "\n",
        "Question: What is the month with the highest total revenue?"
      ],
      "metadata": {
        "id": "m-Wgen5zvFbs"
      }
    },
    {
      "cell_type": "code",
      "source": [],
      "metadata": {
        "id": "5ZNsZ89mvIPt"
      },
      "execution_count": null,
      "outputs": []
    },
    {
      "cell_type": "markdown",
      "source": [
        "# Customer Behavior:\n",
        "\n",
        "Question: How many customers made repeat purchases (more than one transaction)?"
      ],
      "metadata": {
        "id": "c9vzeV4HvNrE"
      }
    },
    {
      "cell_type": "code",
      "source": [
        "\n"
      ],
      "metadata": {
        "id": "wzj2qs9EvT_I"
      },
      "execution_count": null,
      "outputs": []
    },
    {
      "cell_type": "markdown",
      "source": [
        "# Recommendation Effectiveness:\n",
        "\n",
        "Question: What is the average purchase price for recommended products vs. non-recommended products?"
      ],
      "metadata": {
        "id": "COps3Jtvvdp4"
      }
    },
    {
      "cell_type": "code",
      "source": [],
      "metadata": {
        "id": "1s-uYgkMvf4E"
      },
      "execution_count": null,
      "outputs": []
    },
    {
      "cell_type": "markdown",
      "source": [
        "# Price Category Analysis:\n",
        "\n",
        "Question: What is the distribution of purchases between 'Low' and 'High' price categories?"
      ],
      "metadata": {
        "id": "bMr4solEvjDt"
      }
    },
    {
      "cell_type": "code",
      "source": [
        "\n"
      ],
      "metadata": {
        "id": "05bPL1rqvmmJ"
      },
      "execution_count": null,
      "outputs": []
    }
  ]
}