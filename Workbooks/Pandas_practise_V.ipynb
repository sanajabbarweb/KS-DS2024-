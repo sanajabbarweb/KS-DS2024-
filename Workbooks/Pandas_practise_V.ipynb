{
  "cells": [
    {
      "cell_type": "markdown",
      "id": "f32b1ffd-6b46-41d2-91ea-58a02cd4ee31",
      "metadata": {
        "id": "f32b1ffd-6b46-41d2-91ea-58a02cd4ee31"
      },
      "source": [
        "# Lecture 6\n",
        "\n",
        "Data Science, Fall 2023\n",
        "\n",
        "\n",
        "\n",
        "A demonstration of exploratory data analysis to accompany Lecture 6 (originally planned for Lecture 5)."
      ]
    },
    {
      "cell_type": "code",
      "execution_count": null,
      "id": "52653181-9343-44e4-b198-540a5f3b4b28",
      "metadata": {
        "ExecuteTime": {
          "end_time": "2018-02-02T15:15:15.363920Z",
          "start_time": "2018-02-02T15:15:14.337886Z"
        },
        "id": "52653181-9343-44e4-b198-540a5f3b4b28"
      },
      "outputs": [],
      "source": [
        "import numpy as np\n",
        "import pandas as pd"
      ]
    },
    {
      "cell_type": "code",
      "execution_count": null,
      "id": "c76a6c48-110a-498a-918e-4269e519b83c",
      "metadata": {
        "id": "c76a6c48-110a-498a-918e-4269e519b83c"
      },
      "outputs": [],
      "source": [
        "import matplotlib.pyplot as plt\n",
        "import seaborn as sns\n",
        "#%matplotlib inline\n",
        "plt.rcParams['figure.figsize'] = (12, 9)\n",
        "\n",
        "sns.set()\n",
        "sns.set_context('talk')\n",
        "\n",
        "np.set_printoptions(threshold=20, precision=2, suppress=True)\n",
        "pd.set_option('display.max_rows', 30)\n",
        "pd.set_option('display.max_columns', None)\n",
        "pd.set_option('display.precision', 2)\n",
        "# This option stops scientific notation for pandas\n",
        "pd.set_option('display.float_format', '{:.2f}'.format)\n"
      ]
    },
    {
      "cell_type": "markdown",
      "source": [
        "These options are used to customize the display of pandas DataFrames for better readability and precision when working with data. Here's why each option is helpful:"
      ],
      "metadata": {
        "id": "xBq8RdaEAMcZ"
      },
      "id": "xBq8RdaEAMcZ"
    },
    {
      "cell_type": "markdown",
      "id": "26fe9f52-e4d4-4066-a56c-b5575061b979",
      "metadata": {
        "id": "26fe9f52-e4d4-4066-a56c-b5575061b979"
      },
      "source": [
        "# Tuberculosis in the United States"
      ]
    },
    {
      "cell_type": "markdown",
      "id": "d8e1ed79-85c3-4654-bd00-f546e7fea6c0",
      "metadata": {
        "id": "d8e1ed79-85c3-4654-bd00-f546e7fea6c0"
      },
      "source": [
        "What can we say about the presence of Tuberculosis in the United States?\n",
        "\n",
        "Let's look at the data included in the [original CDC article](https://www.cdc.gov/mmwr/volumes/71/wr/mm7112a1.htm?s_cid=mm7112a1_w#T1_down) published in 2021."
      ]
    },
    {
      "cell_type": "markdown",
      "id": "ce8867f0-f161-404d-9cd6-7c85d997d2c5",
      "metadata": {
        "id": "ce8867f0-f161-404d-9cd6-7c85d997d2c5"
      },
      "source": [
        "<br/>\n",
        "\n",
        "---\n",
        "\n",
        "# CSV and Nice Field Names\n",
        "Suppose Table 1 was saved as a CSV file located in `data/cdc_tuberculosis.csv`."
      ]
    },
    {
      "cell_type": "markdown",
      "id": "39d1eccf-0803-4056-ac5a-ca33c0263b43",
      "metadata": {
        "id": "39d1eccf-0803-4056-ac5a-ca33c0263b43"
      },
      "source": [
        "We can then explore the CSV (which is a text file, and does not contain binary-encoded data) in many ways:\n",
        "1. Using a text editor like the one in DataHub (right-click on the file and use `Open->Editor`), emacs, vim, VSCode, etc.\n",
        "2. Opening the CSV directly in DataHub (read-only), Excel, Google Sheets, etc.\n",
        "3. The Python file object\n",
        "4. pandas, using `pd.read_csv()`\n",
        "\n",
        "1, 2. Let's start with the first two so we really solidify the idea of a CSV as **rectangular data (i.e., tabular data) stored as comma-separated values**."
      ]
    },
    {
      "cell_type": "markdown",
      "id": "2ffbfc29-5c6c-4b6c-be75-9b3d549d4159",
      "metadata": {
        "id": "2ffbfc29-5c6c-4b6c-be75-9b3d549d4159"
      },
      "source": [
        "\n",
        "\n",
        "4. Finally, let's see the tried-and-true Data Science approach: pandas."
      ]
    },
    {
      "cell_type": "code",
      "source": [
        "from google.colab import drive\n",
        "drive.mount('/content/drive')"
      ],
      "metadata": {
        "colab": {
          "base_uri": "https://localhost:8080/"
        },
        "id": "EtPIXYulWqiO",
        "outputId": "b85cdf79-46de-42d9-9da5-378fb7f17236"
      },
      "id": "EtPIXYulWqiO",
      "execution_count": null,
      "outputs": [
        {
          "output_type": "stream",
          "name": "stdout",
          "text": [
            "Drive already mounted at /content/drive; to attempt to forcibly remount, call drive.mount(\"/content/drive\", force_remount=True).\n"
          ]
        }
      ]
    },
    {
      "cell_type": "code",
      "execution_count": null,
      "id": "f8348a64-0454-440a-ac02-c0c796aea68b",
      "metadata": {
        "id": "f8348a64-0454-440a-ac02-c0c796aea68b"
      },
      "outputs": [],
      "source": [
        "# Read tuberculosis data"
      ]
    },
    {
      "cell_type": "markdown",
      "id": "b1424618-8ae7-4e5e-837a-665f85a68006",
      "metadata": {
        "id": "b1424618-8ae7-4e5e-837a-665f85a68006"
      },
      "source": [
        "Wait, what's up with the \"Unnamed\" column names? And the first row, for that matter?\n",
        "\n",
        "Congratulations -- you're ready to wrangle your data. Because of how things are stored, we'll need to clean the data a bit to name our columns better."
      ]
    },
    {
      "cell_type": "markdown",
      "id": "c24610db-deef-4760-86a7-d82e4bb18693",
      "metadata": {
        "id": "c24610db-deef-4760-86a7-d82e4bb18693"
      },
      "source": [
        "A reasonable first step is to identify the row with the right header. The `pd.read_csv()` function ([documentation](https://pandas.pydata.org/docs/reference/api/pandas.read_csv.html)) has the convenient `header` parameter:"
      ]
    },
    {
      "cell_type": "code",
      "execution_count": null,
      "id": "1a9dff58-3938-4348-8fd3-b9057fde21ac",
      "metadata": {
        "id": "1a9dff58-3938-4348-8fd3-b9057fde21ac"
      },
      "outputs": [],
      "source": [
        "# Answer Here"
      ]
    },
    {
      "cell_type": "markdown",
      "id": "c55ef769-0c85-462d-81d3-f4c0265add8b",
      "metadata": {
        "id": "c55ef769-0c85-462d-81d3-f4c0265add8b"
      },
      "source": [
        "Wait...but now we can't differentiate betwen the \"Number of TB cases\" and \"TB incidence\" year columns. pandas has tried to make our lives easier by automatically adding \".1\" to the latter columns, but this doesn't help us as humans understand the data.\n",
        "\n",
        "We can do this manually with `df.rename()` [documentation]"
      ]
    },
    {
      "cell_type": "code",
      "execution_count": null,
      "id": "f9fd2029-d22d-409b-b6f1-248aad532df7",
      "metadata": {
        "id": "f9fd2029-d22d-409b-b6f1-248aad532df7"
      },
      "outputs": [],
      "source": [
        "# Rename column List\n"
      ]
    },
    {
      "cell_type": "markdown",
      "id": "1bf49b6d-fbe0-4c6e-8ab2-b541bc72e0c1",
      "metadata": {
        "id": "1bf49b6d-fbe0-4c6e-8ab2-b541bc72e0c1"
      },
      "source": [
        "<br/><br/>\n",
        "\n",
        "---\n",
        "\n",
        "# Record Granularity"
      ]
    },
    {
      "cell_type": "markdown",
      "id": "271b596e-15cd-43e0-9f91-86a9eab2d9f6",
      "metadata": {
        "id": "271b596e-15cd-43e0-9f91-86a9eab2d9f6"
      },
      "source": [
        "You might already be wondering: What's up with that first record?\n",
        "\n",
        "Row 0 is what we call a **rollup record**, or summary record. It's often useful when displaying tables to humans. The **granularity** of record 0 (Totals) vs the rest of the records (States) is different."
      ]
    },
    {
      "cell_type": "markdown",
      "id": "25390b21-b853-4bea-8ac2-ed02a78fda99",
      "metadata": {
        "id": "25390b21-b853-4bea-8ac2-ed02a78fda99"
      },
      "source": [
        "<br/>\n",
        "\n",
        "Okay, EDA step two. How was the rollup record aggregated?\n",
        "\n",
        "Let's check if Total TB cases is the sum of all state TB cases. If we sum over all rows, we should get **2x** the total cases in each of our TB cases by year (why?)."
      ]
    },
    {
      "cell_type": "code",
      "execution_count": null,
      "id": "3c136707-b247-4ea9-93b5-79ef5b394da4",
      "metadata": {
        "id": "3c136707-b247-4ea9-93b5-79ef5b394da4"
      },
      "outputs": [],
      "source": [
        "# Apply sum to tb DataFrame\n"
      ]
    },
    {
      "cell_type": "markdown",
      "id": "e3843ad9-afe2-4787-a979-5b62e4af2c4a",
      "metadata": {
        "id": "e3843ad9-afe2-4787-a979-5b62e4af2c4a"
      },
      "source": [
        "<br/>\n",
        "\n",
        "Whoa, what's going on? Check out the column types:"
      ]
    },
    {
      "cell_type": "code",
      "execution_count": null,
      "id": "cd373432-2770-4218-af2d-4cc52d32cdfa",
      "metadata": {
        "id": "cd373432-2770-4218-af2d-4cc52d32cdfa"
      },
      "outputs": [],
      "source": [
        "# Find datatype for each column\n"
      ]
    },
    {
      "cell_type": "markdown",
      "id": "105bf5fe-4a77-4335-8fd7-6c0f8ed68ad4",
      "metadata": {
        "id": "105bf5fe-4a77-4335-8fd7-6c0f8ed68ad4"
      },
      "source": [
        "<br/>\n",
        "\n",
        "Looks like those commas are causing all TB cases to be read as the `object` datatype, or **storage type** (close to the Python string datatype), so pandas is concatenating strings instead of adding integers.\n",
        "\n",
        "<br/>\n",
        "\n",
        "Fortunately `read_csv` also has a `thousands` parameter (for what it's worth, I didn't know this beforehand--I [googled](https://pandas.pydata.org/docs/reference/api/pandas.read_csv.html) this):"
      ]
    },
    {
      "cell_type": "code",
      "execution_count": null,
      "id": "539e288c-2d73-404e-8a2f-cc98d0428255",
      "metadata": {
        "id": "539e288c-2d73-404e-8a2f-cc98d0428255"
      },
      "outputs": [],
      "source": [
        "# improve readability: chaining method calls with outer parentheses/line breaks"
      ]
    },
    {
      "cell_type": "code",
      "execution_count": null,
      "id": "b0eb545c-26f4-46cb-958d-3597a2cc6784",
      "metadata": {
        "id": "b0eb545c-26f4-46cb-958d-3597a2cc6784"
      },
      "outputs": [],
      "source": [
        "# now apply sum\n",
        "# Answer Here\n"
      ]
    },
    {
      "cell_type": "markdown",
      "id": "d8e7f6c0-6eeb-4344-9636-00e8bc4c2c2b",
      "metadata": {
        "id": "d8e7f6c0-6eeb-4344-9636-00e8bc4c2c2b"
      },
      "source": [
        "The Total TB cases look right. Phew!\n",
        "\n",
        "(We'll leave it to your own EDA to figure out how the TB incidence \"Totals\" were aggregated.)"
      ]
    },
    {
      "cell_type": "markdown",
      "id": "7c5bad23-78be-4927-ab64-fc8e9a0ab2ae",
      "metadata": {
        "id": "7c5bad23-78be-4927-ab64-fc8e9a0ab2ae"
      },
      "source": [
        "Let's just look at the records with **state-level granularity**:"
      ]
    },
    {
      "cell_type": "code",
      "execution_count": null,
      "id": "0d62fe68-3121-4a74-b4cb-3c12f2ec672f",
      "metadata": {
        "id": "0d62fe68-3121-4a74-b4cb-3c12f2ec672f"
      },
      "outputs": [],
      "source": [
        "# Answer Here\n"
      ]
    },
    {
      "cell_type": "markdown",
      "id": "767fc8d3-9442-43d9-adef-30274ec6aae8",
      "metadata": {
        "id": "767fc8d3-9442-43d9-adef-30274ec6aae8"
      },
      "source": [
        "What do each of these values represent? Why?\n",
        "\n",
        "To the lecture!"
      ]
    },
    {
      "cell_type": "markdown",
      "id": "5214187a-a70d-49f9-9073-fa6e7d383482",
      "metadata": {
        "id": "5214187a-a70d-49f9-9073-fa6e7d383482"
      },
      "source": [
        "\n",
        "# Gather Census Data\n",
        "\n",
        "U.S. Census population estimates [source](https://www.census.gov/data/tables/time-series/demo/popest/2010s-state-total.html) (2019), [source](https://www.census.gov/data/tables/time-series/demo/popest/2020s-state-total.html) (2020-2021).\n",
        "\n",
        "Running the below cells cleans the data. We encourage you to closely explore the CSV and study these lines after lecture...\n",
        "\n",
        "There are a few new methods here:\n",
        "* `df.convert_dtypes()` ([documentation](https://pandas.pydata.org/docs/reference/api/pandas.DataFrame.convert_dtypes.html)) conveniently converts all float dtypes into ints and is out of scope for the class.\n",
        "* `df.drop_na()` ([documentation](https://pandas.pydata.org/docs/reference/api/pandas.DataFrame.dropna.html)) will be explained in more detail next time."
      ]
    },
    {
      "cell_type": "code",
      "execution_count": null,
      "id": "2601a523-56bd-4c37-83fe-b57c18648acb",
      "metadata": {
        "id": "2601a523-56bd-4c37-83fe-b57c18648acb"
      },
      "outputs": [],
      "source": [
        "# Load 2010s census data\n",
        "# Answer Here\n"
      ]
    },
    {
      "cell_type": "markdown",
      "source": [
        "# Apply some EDA\n",
        "\n",
        "Drop the column of Estiamte Base\n",
        "\n",
        "Rename Unnamed: 0 as 'Geographic Area'\n",
        "\n",
        "\"smart\" converting of columns, use at your own risk\n",
        "\n",
        ".dropna() to drop records with NaN\n",
        "\n",
        "You can also suggest any change that can be helpful for EDA\n",
        "\n"
      ],
      "metadata": {
        "id": "bs4we3I90lDC"
      },
      "id": "bs4we3I90lDC"
    },
    {
      "cell_type": "code",
      "source": [
        "\n",
        "# with pd.option_context('display.min_rows', 30): # shows more rows\n",
        "#     display(census_2010s_df)\n",
        "\n"
      ],
      "metadata": {
        "id": "1m2Bdv2fyLJG"
      },
      "id": "1m2Bdv2fyLJG",
      "execution_count": null,
      "outputs": []
    },
    {
      "cell_type": "code",
      "execution_count": null,
      "id": "368d0d13-cc1c-43a8-92c3-757ed22fc5ee",
      "metadata": {
        "id": "368d0d13-cc1c-43a8-92c3-757ed22fc5ee"
      },
      "outputs": [],
      "source": [
        "# census 2020s data\n"
      ]
    },
    {
      "cell_type": "code",
      "source": [
        "census_2020s_df = (\n",
        "    census_2020s_df\n",
        "    .reset_index()\n",
        "    .drop(columns=[\"index\", \"Unnamed: 1\"])\n",
        "    .rename(columns={\"Unnamed: 0\": \"Geographic Area\"})\n",
        "    .convert_dtypes()    # \"smart\" converting of columns, use at your own risk\n",
        "    .dropna()            # we'll introduce this next time\n",
        ")\n",
        "census_2020s_df['Geographic Area'] = census_2020s_df['Geographic Area'].str.strip('.')\n",
        "census_2020s_df"
      ],
      "metadata": {
        "id": "hbVqnRPT29rJ"
      },
      "id": "hbVqnRPT29rJ",
      "execution_count": null,
      "outputs": []
    },
    {
      "cell_type": "markdown",
      "id": "a2e4d8b6-c7f5-44d7-a2c6-e66548d65099",
      "metadata": {
        "id": "a2e4d8b6-c7f5-44d7-a2c6-e66548d65099"
      },
      "source": [
        "<br/><br/>\n",
        "\n",
        "---\n",
        "\n",
        "# Join Data (Merge DataFrames)"
      ]
    },
    {
      "cell_type": "markdown",
      "id": "f29a74f0-36fa-4a47-a0c9-2c5df6e6f9cd",
      "metadata": {
        "id": "f29a74f0-36fa-4a47-a0c9-2c5df6e6f9cd"
      },
      "source": [
        "Time to `merge`! Here I use the DataFrame method `df1.merge(right=df2, ...)` on DataFrame `df1` ([documentation](https://pandas.pydata.org/docs/reference/api/pandas.DataFrame.merge.html)). Contrast this with the function `pd.merge(left=df1, right=df2, ...)` ([documentation](https://pandas.pydata.org/docs/reference/api/pandas.merge.html?highlight=pandas%20merge#pandas.merge)). Feel free to use either."
      ]
    },
    {
      "cell_type": "code",
      "execution_count": null,
      "id": "0d3e093a-860a-45f1-b976-3133f34586c5",
      "metadata": {
        "id": "0d3e093a-860a-45f1-b976-3133f34586c5"
      },
      "outputs": [],
      "source": [
        "# merge TB dataframe with two US census dataframes"
      ]
    },
    {
      "cell_type": "markdown",
      "id": "9110759b-cca6-430b-a42e-b6a23404b045",
      "metadata": {
        "id": "9110759b-cca6-430b-a42e-b6a23404b045"
      },
      "source": [
        "This is a little unwieldy. We could either drop the unneeded columns now, or just merge on smaller census DataFrames. Let's do the latter."
      ]
    },
    {
      "cell_type": "code",
      "execution_count": null,
      "id": "b2abbb58-f0be-4559-889d-61de7152afc0",
      "metadata": {
        "id": "b2abbb58-f0be-4559-889d-61de7152afc0"
      },
      "outputs": [],
      "source": [
        "# try merging again, but cleaner this time\n"
      ]
    },
    {
      "cell_type": "markdown",
      "id": "0cf27543-e70b-457c-9714-965a60e96dc3",
      "metadata": {
        "id": "0cf27543-e70b-457c-9714-965a60e96dc3"
      },
      "source": [
        "\n",
        "## Reproduce incidence\n",
        "\n",
        "Let's recompute incidence to make sure we know where the original CDC numbers came from.\n",
        "\n",
        "From the [CDC report](https://www.cdc.gov/mmwr/volumes/71/wr/mm7112a1.htm?s_cid=mm7112a1_w#T1_down): TB incidence is computed as “Cases per 100,000 persons using mid-year population estimates from the U.S. Census Bureau.”\n",
        "\n",
        "If we define a group as 100,000 people, then we can compute the TB incidence for a given state population as\n",
        "\n",
        "$$\\text{TB incidence} = \\frac{\\text{# TB cases in population}}{\\text{# groups in population}} = \\frac{\\text{# TB cases in population}}{\\text{population}/100000} $$\n",
        "\n",
        "$$= \\frac{\\text{# TB cases in population}}{\\text{population}} \\times 100000$$\n",
        "\n",
        "Let's try this for 2019:"
      ]
    },
    {
      "cell_type": "code",
      "execution_count": null,
      "id": "2723f184-e3f4-41f6-8022-1f10ce8b66cc",
      "metadata": {
        "id": "2723f184-e3f4-41f6-8022-1f10ce8b66cc"
      },
      "outputs": [],
      "source": []
    },
    {
      "cell_type": "markdown",
      "id": "e86fff7c-22de-485a-a20a-495c753860a3",
      "metadata": {
        "id": "e86fff7c-22de-485a-a20a-495c753860a3"
      },
      "source": [
        "Awesome!!!\n",
        "\n",
        "Let's use a for-loop and Python format strings to compute TB incidence for all years. Python f-strings are just used for the purposes of this demo, but they're handy to know when you explore data beyond this course ([Python documentation](https://docs.python.org/3/tutorial/inputoutput.html))."
      ]
    },
    {
      "cell_type": "code",
      "execution_count": null,
      "id": "921b16a2-2340-4805-889c-8f044a1832f8",
      "metadata": {
        "id": "921b16a2-2340-4805-889c-8f044a1832f8"
      },
      "outputs": [],
      "source": [
        "# recompute incidence for all years\n"
      ]
    },
    {
      "cell_type": "markdown",
      "id": "2190ec9f-d7e9-4032-8bcf-ca9ebb3644f8",
      "metadata": {
        "id": "2190ec9f-d7e9-4032-8bcf-ca9ebb3644f8"
      },
      "source": [
        "These numbers look pretty close!!! There are a few errors in the hundredths place, particularly in 2021. It may be useful to further explore reasons behind this discrepancy. We'll leave it to you!"
      ]
    },
    {
      "cell_type": "code",
      "execution_count": null,
      "id": "ce02240c-08cb-4c2b-a571-eb3ac0907088",
      "metadata": {
        "id": "ce02240c-08cb-4c2b-a571-eb3ac0907088"
      },
      "outputs": [],
      "source": [
        "tb_census_df.describe()"
      ]
    }
  ],
  "metadata": {
    "kernelspec": {
      "display_name": "Python 3 (ipykernel)",
      "language": "python",
      "name": "python3"
    },
    "language_info": {
      "codemirror_mode": {
        "name": "ipython",
        "version": 3
      },
      "file_extension": ".py",
      "mimetype": "text/x-python",
      "name": "python",
      "nbconvert_exporter": "python",
      "pygments_lexer": "ipython3",
      "version": "3.10.8"
    },
    "colab": {
      "provenance": []
    }
  },
  "nbformat": 4,
  "nbformat_minor": 5
}