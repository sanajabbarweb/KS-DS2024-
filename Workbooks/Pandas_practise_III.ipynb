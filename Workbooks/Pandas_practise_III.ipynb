{
  "cells": [
    {
      "cell_type": "markdown",
      "metadata": {
        "id": "NIjiNewjikKW"
      },
      "source": [
        "# Lecture 4 –Fall 2023\n",
        "\n",
        "A demonstration of advanced `pandas` syntax to accompany Lecture 4."
      ]
    },
    {
      "cell_type": "code",
      "source": [
        "from google.colab import drive\n",
        "drive.mount('/content/drive')"
      ],
      "metadata": {
        "id": "cgdnHZXjimq0",
        "colab": {
          "base_uri": "https://localhost:8080/"
        },
        "outputId": "8a53e8e3-790d-45ed-df1e-a97381a64d35"
      },
      "execution_count": null,
      "outputs": [
        {
          "output_type": "stream",
          "name": "stdout",
          "text": [
            "Mounted at /content/drive\n"
          ]
        }
      ]
    },
    {
      "cell_type": "code",
      "execution_count": null,
      "metadata": {
        "id": "iMMkYGl7ikKa"
      },
      "outputs": [],
      "source": [
        "import numpy as np\n",
        "import pandas as pd\n",
        "import plotly.express as px"
      ]
    },
    {
      "cell_type": "markdown",
      "metadata": {
        "id": "iD2Qu34XikKi"
      },
      "source": [
        "## Dataset: California baby names\n",
        "\n",
        "In today's lecture, we'll work with the `babynames` dataset, which contains information about the names of infants born in California.\n",
        "\n",
        "The cell below pulls census data from a government website and then loads it into a usable form. The code shown here is outside of the scope of Data 100, but you're encouraged to dig into it if you are interested!"
      ]
    },
    {
      "cell_type": "code",
      "execution_count": null,
      "metadata": {
        "id": "PXW2WryKikKi"
      },
      "outputs": [],
      "source": [
        "import urllib.request\n",
        "import os.path\n",
        "import zipfile\n",
        "\n",
        "data_url = \"https://www.ssa.gov/oact/babynames/state/namesbystate.zip\"\n",
        "local_filename = \"/content/drive/MyDrive/data/babynamesbystate.zip\"\n",
        "if not os.path.exists(local_filename): # If the data exists don't download again\n",
        "    with urllib.request.urlopen(data_url) as resp, open(local_filename, 'wb') as f:\n",
        "        f.write(resp.read())\n",
        "\n",
        "zf = zipfile.ZipFile(local_filename, 'r')\n",
        "\n",
        "ca_name = 'STATE.CA.TXT'\n",
        "field_names = ['State', 'Sex', 'Year', 'Name', 'Count']\n",
        "with zf.open(ca_name) as fh:\n",
        "    babynames = pd.read_csv(fh, header=None, names=field_names)\n",
        "\n",
        "babynames.head()"
      ]
    },
    {
      "cell_type": "markdown",
      "metadata": {
        "id": "gHIddj3IikKl"
      },
      "source": [
        "### Exercises\n",
        "We want to obtain the first three baby names with `count > 250`.\n",
        "\n",
        "1.Code this using, loc and head()\n",
        "\n",
        "2.Code this using, loc and iloc()\n",
        "\n",
        "3.Code this using [] and head ()\n"
      ]
    },
    {
      "cell_type": "code",
      "execution_count": null,
      "metadata": {
        "id": "vy62CYWpikKl"
      },
      "outputs": [],
      "source": [
        "# Answer Here"
      ]
    },
    {
      "cell_type": "code",
      "source": [
        "# Answer Here\n"
      ],
      "metadata": {
        "id": "DrXbEdNxpaME"
      },
      "execution_count": null,
      "outputs": []
    },
    {
      "cell_type": "code",
      "execution_count": null,
      "metadata": {
        "scrolled": true,
        "id": "73W1d6o5cFye"
      },
      "outputs": [],
      "source": [
        "# Answer Here"
      ]
    },
    {
      "cell_type": "markdown",
      "metadata": {
        "id": "pKOoifhQikKl"
      },
      "source": [
        "### `.isin` for Selection based on a list, array, or `Series`"
      ]
    },
    {
      "cell_type": "code",
      "execution_count": null,
      "metadata": {
        "id": "gsZokeo6ikKl"
      },
      "outputs": [],
      "source": [
        "# Note: The parentheses surrounding the code make it possible to break the code into multiple lines for readability\n",
        "\n",
        "( babynames[(babynames[\"Name\"] == \"Bella\") |\n",
        "              (babynames[\"Name\"] == \"Alex\") |\n",
        "              (babynames[\"Name\"] == \"Narges\") |\n",
        "              (babynames[\"Name\"] == \"Lisa\")])\n"
      ]
    },
    {
      "cell_type": "code",
      "execution_count": null,
      "metadata": {
        "id": "MVp7TZUlikKm"
      },
      "outputs": [],
      "source": [
        "# A more concise method to achieve the above: .isin\n",
        "#Answer Here"
      ]
    },
    {
      "cell_type": "markdown",
      "metadata": {
        "id": "FAfz6N3qikKm"
      },
      "source": [
        "### `.str` Functions for Defining a Condition"
      ]
    },
    {
      "cell_type": "code",
      "execution_count": null,
      "metadata": {
        "id": "xYCh8K0qikKm"
      },
      "outputs": [],
      "source": [
        "# What if we only want names that start with \"J\"?\n",
        "#Answer Here"
      ]
    },
    {
      "cell_type": "markdown",
      "metadata": {
        "id": "4HleKnmwikKm"
      },
      "source": [
        "## Adding, Removing, and Modifying Columns"
      ]
    },
    {
      "cell_type": "markdown",
      "metadata": {
        "id": "XqWTQM1hikKm"
      },
      "source": [
        "### Add a Column\n",
        "To add a column, use `[]` to reference the desired new column, then assign it to a `Series` or array of appropriate length."
      ]
    },
    {
      "cell_type": "code",
      "execution_count": null,
      "metadata": {
        "id": "-MmB453QikKm"
      },
      "outputs": [],
      "source": [
        "# Create a Series of the length of each name\n",
        "\n",
        "# Add a column named \"name_lengths\" that includes the length of each name\n"
      ]
    },
    {
      "cell_type": "markdown",
      "metadata": {
        "id": "MrBTd9bZikKn"
      },
      "source": [
        "### Modify a Column\n",
        "To modify a column, use `[]` to access the desired column, then re-assign it to a new array or Series."
      ]
    },
    {
      "cell_type": "code",
      "execution_count": null,
      "metadata": {
        "id": "s2nh2MkYikKn"
      },
      "outputs": [],
      "source": [
        "# Modify the \"name_lengths\" column to be one less than its original value\n"
      ]
    },
    {
      "cell_type": "markdown",
      "metadata": {
        "id": "ZNgIZDavikKn"
      },
      "source": [
        "### Rename a Column Name\n",
        "Rename a column using the `.rename()` method."
      ]
    },
    {
      "cell_type": "code",
      "execution_count": null,
      "metadata": {
        "id": "SucypH9likKn"
      },
      "outputs": [],
      "source": [
        "# Rename \"name_lengths\" to \"Length\"\n"
      ]
    },
    {
      "cell_type": "markdown",
      "metadata": {
        "id": "irQLkFH5ikKn"
      },
      "source": [
        "### Delete a Column\n",
        "Remove a column using `.drop()`."
      ]
    },
    {
      "cell_type": "code",
      "execution_count": null,
      "metadata": {
        "id": "mR6hEqODikKn"
      },
      "outputs": [],
      "source": [
        "# Remove our new \"Length\" column"
      ]
    },
    {
      "cell_type": "markdown",
      "metadata": {
        "id": "mrW_x6kdikKq"
      },
      "source": [
        "## Custom sorting"
      ]
    },
    {
      "cell_type": "code",
      "execution_count": null,
      "metadata": {
        "id": "_jngqWCtrvTe"
      },
      "outputs": [],
      "source": [
        "# Sort a Series Containing Names\n",
        "\n"
      ]
    },
    {
      "cell_type": "code",
      "execution_count": null,
      "metadata": {
        "id": "XdXTg7pDikKq"
      },
      "outputs": [],
      "source": [
        "# Sort a DataFrame – there are lots of Michaels in California\n"
      ]
    },
    {
      "cell_type": "markdown",
      "source": [
        "### Approach 1: Create a temporary column"
      ],
      "metadata": {
        "id": "_ZVFY3dHsfOb"
      }
    },
    {
      "cell_type": "code",
      "execution_count": null,
      "metadata": {
        "id": "C3-jQTR7ikKr"
      },
      "outputs": [],
      "source": [
        "# Create a Series of the length of each name\n",
        "\n",
        "# Add a column named \"name_lengths\" that includes the length of each name\n",
        "\n",
        "# Sort by the temporary column\n"
      ]
    },
    {
      "cell_type": "code",
      "execution_count": null,
      "metadata": {
        "tags": [],
        "id": "ahtA1iWrikKr"
      },
      "outputs": [],
      "source": [
        "# Drop the 'name_length' column\n"
      ]
    },
    {
      "cell_type": "markdown",
      "metadata": {
        "id": "yRv15FHqikKr"
      },
      "source": [
        "### Approach 2: Sorting using the `key` argument"
      ]
    },
    {
      "cell_type": "code",
      "execution_count": null,
      "metadata": {
        "id": "AQYcQ_hRikKr"
      },
      "outputs": [],
      "source": [
        "# Answer Here"
      ]
    },
    {
      "cell_type": "markdown",
      "metadata": {
        "id": "g0cmkQEOikKr"
      },
      "source": [
        "### Approach 3: Sorting Using the `map` Function\n",
        "\n",
        "We can also use the Python map function if we want to use an arbitrarily defined function. Suppose we want to sort by the number of occurrences of \"dr\" plus the number of occurences of \"ea\"."
      ]
    },
    {
      "cell_type": "code",
      "execution_count": null,
      "metadata": {
        "id": "cK1AbRrCikKr"
      },
      "outputs": [],
      "source": [
        "# First, define a function to count the number of times \"sa\" or \"me\" appear in each name\n",
        "\n",
        "\n",
        "# Then, use `map` to apply `dr_ea_count` to each name in the \"Name\" column\n",
        "\n",
        "# Sort the DataFrame by the new \"dr_ea_count\" column so we can see our handiwork\n",
        "\n"
      ]
    },
    {
      "cell_type": "code",
      "execution_count": null,
      "metadata": {
        "id": "asoXYCpNikKs"
      },
      "outputs": [],
      "source": [
        "# Drop the `dr_ea_count` column\n"
      ]
    },
    {
      "cell_type": "markdown",
      "metadata": {
        "id": "1b5vXusiikKs"
      },
      "source": [
        "## Grouping\n",
        "\n",
        "Group rows that share a common feature, then aggregate data across the group.\n",
        "\n",
        "In this example, we count the total number of babies born in each year (considering only a small subset of the data, for simplicity).\n",
        "\n",
        "<img src=\"images/groupby.png\" width=\"800\"/>"
      ]
    },
    {
      "cell_type": "code",
      "source": [
        "# DataFrame with baby gril names only\n",
        "# Answer Here\n",
        "#Groupby similar features like year and apply aggregate\n",
        "# Answer Here\n",
        "# Sort by Count\n",
        "# Answer Here\n"
      ],
      "metadata": {
        "id": "cfXzYMSB1EIM"
      },
      "execution_count": null,
      "outputs": []
    },
    {
      "cell_type": "code",
      "source": [
        "# print first 10 entries\n"
      ],
      "metadata": {
        "id": "9EGgvBXG4ii4"
      },
      "execution_count": null,
      "outputs": []
    },
    {
      "cell_type": "code",
      "execution_count": null,
      "metadata": {
        "id": "MeZ7klFJikKs"
      },
      "outputs": [],
      "source": [
        "#the total baby count in each year\n",
        "# Answer Here\n"
      ]
    },
    {
      "cell_type": "markdown",
      "metadata": {
        "id": "dgGxE-GJikKs"
      },
      "source": [
        "There are many different aggregation functions we can use, all of which are useful in different applications."
      ]
    },
    {
      "cell_type": "code",
      "execution_count": null,
      "metadata": {
        "id": "Bf_9Eu1XikKs"
      },
      "outputs": [],
      "source": [
        "# What is the earliest year in which each name appeared?\n",
        "# Answer Here"
      ]
    },
    {
      "cell_type": "code",
      "execution_count": null,
      "metadata": {
        "id": "ZYRMSMWQikKs"
      },
      "outputs": [],
      "source": [
        "# What is the largest single-year count of each name?\n",
        "# Answer Here"
      ]
    },
    {
      "cell_type": "code",
      "source": [
        "#Can you find the most popular baby name in the state of California (CA) for each year? use idxmax function.\n",
        "#Provide a list of years along with the corresponding most popular names.\"\n",
        "result = babynames.groupby(\"Year\")['Count'].idxmax()\n",
        "#Answer Here"
      ],
      "metadata": {
        "id": "mxMhwEIGtqJ8"
      },
      "execution_count": null,
      "outputs": []
    },
    {
      "cell_type": "markdown",
      "metadata": {
        "id": "xnszvDOfikKt"
      },
      "source": [
        "## Case Study: Name \"Popularity\""
      ]
    },
    {
      "cell_type": "markdown",
      "metadata": {
        "id": "tbOi1sfmikKt"
      },
      "source": [
        "In this exercise, let's find the name with sex \"F\" that has dropped most in popularity since its peak usage. We'll start by filtering `babynames` to only include names corresponding to sex \"F\"."
      ]
    },
    {
      "cell_type": "code",
      "execution_count": null,
      "metadata": {
        "id": "BIMyQ0W9ikKt"
      },
      "outputs": [],
      "source": [
        "#Answer Here"
      ]
    },
    {
      "cell_type": "code",
      "execution_count": null,
      "metadata": {
        "id": "hQNgSJsxikKt"
      },
      "outputs": [],
      "source": [
        "# We sort the data by year"
      ]
    },
    {
      "cell_type": "markdown",
      "metadata": {
        "id": "g9qc5bgGikKt"
      },
      "source": [
        "To build our intuition on how to answer our research question, let's visualize the prevalence of the name \"Jennifer\" over time."
      ]
    },
    {
      "cell_type": "code",
      "execution_count": null,
      "metadata": {
        "id": "FLZPoz0sikKt"
      },
      "outputs": [],
      "source": [
        "# We'll talk about how to generate plots in a later lecture\n",
        "fig = px.line(f_babynames[f_babynames[\"Name\"] == \"Jennifer\"],\n",
        "              x = \"Year\", y = \"Count\")\n",
        "fig.update_layout(font_size = 18,\n",
        "                  autosize=False,\n",
        "                 width=1000,\n",
        "                  height=400)"
      ]
    },
    {
      "cell_type": "markdown",
      "metadata": {
        "id": "SrSXOygjikKt"
      },
      "source": [
        "We'll need a mathematical definition for the change in popularity of a name.\n",
        "\n",
        "Define the metric \"ratio to peak\" (RTP). We'll calculate this as the count of the name in 2022 (the most recent year for which we have data) divided by the largest count of this name in *any* year.\n",
        "\n",
        "A demo calculation for Jennifer:"
      ]
    },
    {
      "cell_type": "code",
      "execution_count": null,
      "metadata": {
        "id": "IVsnEdtiikKu"
      },
      "outputs": [],
      "source": [
        "# Find the highest Jennifer 'count'\n"
      ]
    },
    {
      "cell_type": "code",
      "execution_count": null,
      "metadata": {
        "tags": [],
        "id": "b9tFhrtYikKu"
      },
      "outputs": [],
      "source": [
        "# Remember that we sorted f_babynames by year.\n",
        "# This means that grabbing the final entry gives us the most recent count of Jennifers: 114\n",
        "# In 2022, the most recent year for which we have data, 114 Jennifers were born\n"
      ]
    },
    {
      "cell_type": "code",
      "execution_count": null,
      "metadata": {
        "tags": [],
        "id": "EPykMViiikKu"
      },
      "outputs": [],
      "source": [
        "# Compute the RTP\n"
      ]
    },
    {
      "cell_type": "markdown",
      "metadata": {
        "id": "GzWdNXmiikKu"
      },
      "source": [
        "We can also write a function that produces the `ratio_to_peak`for a given `Series`. This will allow us to use `.groupby` to speed up our computation for all names in the dataset."
      ]
    },
    {
      "cell_type": "code",
      "execution_count": null,
      "metadata": {
        "id": "kAuuKE8gikKu"
      },
      "outputs": [],
      "source": [
        "# define the function for RTP\n",
        "\"\"\"\n",
        "Compute the RTP for a Series containing the counts per year for a single name\n",
        "\"\"\"\n"
      ]
    },
    {
      "cell_type": "code",
      "execution_count": null,
      "metadata": {
        "id": "-EV_VpRAikKu"
      },
      "outputs": [],
      "source": [
        "# Construct a Series containing our Jennifer count data\n",
        "\n",
        "# Then, find the RTP using the function define above\n"
      ]
    },
    {
      "cell_type": "markdown",
      "metadata": {
        "id": "DCLu7luhikKv"
      },
      "source": [
        "Now, let's use `.groupby` to compute the RTPs for *all* names in the dataset.\n",
        "\n",
        "You may see a warning message when running the cell below. As discussed in lecture, `pandas` can't apply an aggregation function to non-numeric data (it doens't make sense to divide \"CA\" by a number). By default, `.groupby` will drop any columns that cannot be aggregated."
      ]
    },
    {
      "cell_type": "code",
      "execution_count": null,
      "metadata": {
        "id": "Ce_dpVKjbhFv"
      },
      "outputs": [],
      "source": [
        "# Results in a TypeError\n",
        "#rtp_table = f_babynames.groupby(\"Name\").agg(ratio_to_peak)\n",
        "#rtp_table"
      ]
    },
    {
      "cell_type": "code",
      "execution_count": null,
      "metadata": {
        "tags": [],
        "id": "AUa5jCLFikKv"
      },
      "outputs": [],
      "source": [
        "# Find the RTP fro all names at once using groupby as describe in lec slides\n"
      ]
    },
    {
      "cell_type": "markdown",
      "metadata": {
        "id": "eghHkFWEikKv"
      },
      "source": [
        "To avoid the warning message above, we explicitly extract only the columns relevant to our analysis before using `.agg`."
      ]
    },
    {
      "cell_type": "code",
      "execution_count": null,
      "metadata": {
        "id": "2M1wSROKikKv"
      },
      "outputs": [],
      "source": [
        "# Recompute the RTPs, but only performing the calculation on the \"Count\" column\n"
      ]
    },
    {
      "cell_type": "code",
      "execution_count": null,
      "metadata": {
        "id": "ZxH-gi2TikKv"
      },
      "outputs": [],
      "source": [
        "# Rename \"Count\" to \"Count RTP\" for clarity\n"
      ]
    },
    {
      "cell_type": "code",
      "execution_count": null,
      "metadata": {
        "id": "t77rHbvjikKv"
      },
      "outputs": [],
      "source": [
        "# What name has fallen the most in popularity?\n"
      ]
    },
    {
      "cell_type": "markdown",
      "metadata": {
        "id": "59cPrjlJikKw"
      },
      "source": [
        "We can visualize the decrease in the popularity of the name \"?:\""
      ]
    },
    {
      "cell_type": "code",
      "execution_count": null,
      "metadata": {
        "id": "QjkUqYecikKw"
      },
      "outputs": [],
      "source": [
        "def plot_name(*names):\n",
        "    fig = px.line(f_babynames[f_babynames[\"Name\"].isin(names)],\n",
        "                  x = \"Year\", y = \"Count\", color=\"Name\",\n",
        "                  title=f\"Popularity for: {names}\")\n",
        "    fig.update_layout(font_size = 18,\n",
        "                  autosize=False,\n",
        "                  width=1000,\n",
        "                  height=400)\n",
        "    return fig\n",
        "# pass the name into plot_name\n",
        "plot_name(\"-\")"
      ]
    },
    {
      "cell_type": "code",
      "execution_count": null,
      "metadata": {
        "id": "xlCnd6ZRikKw"
      },
      "outputs": [],
      "source": [
        "# Find the 10 names that have decreased the most in popularity\n",
        "# Answer Here"
      ]
    },
    {
      "cell_type": "code",
      "execution_count": null,
      "metadata": {
        "id": "JGpQ_fpLikKw"
      },
      "outputs": [],
      "source": [
        "plot_name(*top10)"
      ]
    },
    {
      "cell_type": "markdown",
      "metadata": {
        "id": "xpTKbYENikKw"
      },
      "source": [
        "For fun, try plotting your name or your friends' names."
      ]
    }
  ],
  "metadata": {
    "kernelspec": {
      "display_name": "Python 3 (ipykernel)",
      "language": "python",
      "name": "python3"
    },
    "language_info": {
      "codemirror_mode": {
        "name": "ipython",
        "version": 3
      },
      "file_extension": ".py",
      "mimetype": "text/x-python",
      "name": "python",
      "nbconvert_exporter": "python",
      "pygments_lexer": "ipython3",
      "version": "3.11.0"
    },
    "colab": {
      "provenance": []
    }
  },
  "nbformat": 4,
  "nbformat_minor": 0
}