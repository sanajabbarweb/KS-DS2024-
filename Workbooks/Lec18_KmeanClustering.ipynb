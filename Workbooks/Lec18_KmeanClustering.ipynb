{
 "cells": [
  {
   "cell_type": "code",
   "execution_count": 1,
   "metadata": {
    "id": "t0elmPg5U0wM"
   },
   "outputs": [],
   "source": [
    "# import libraries\n",
    "import numpy as np\n",
    "import pandas as pd\n",
    "import statsmodels.api as sm\n",
    "import matplotlib.pyplot as plt\n",
    "import seaborn as sns\n",
    "sns.set()\n",
    "from sklearn.cluster import KMeans"
   ]
  },
  {
   "cell_type": "code",
   "execution_count": null,
   "metadata": {
    "id": "0o9pqbbMaI4g"
   },
   "outputs": [],
   "source": [
    "# This is the data you need to create dataFrame with the given entries and save in Countryclusters.csv\n",
    "Country,Latitude,Longitude,Language\n",
    "USA,44.97,-103.77,English\n",
    "Canada,62.4,-96.8,English\n",
    "France,46.75,2.4,French\n",
    "UK,54.01,-2.53,English\n",
    "Germany,51.15,10.4,German\n",
    "Australia,-25.45,133.11,English"
   ]
  },
  {
   "cell_type": "code",
   "execution_count": 4,
   "metadata": {
    "id": "wCxtNJ8_YTsS"
   },
   "outputs": [],
   "source": [
    "# Load and visualize the data"
   ]
  },
  {
   "cell_type": "code",
   "execution_count": null,
   "metadata": {
    "id": "6dmPdfyYZVNZ"
   },
   "outputs": [],
   "source": [
    "#Visualize the scatter plot of Longitude and Latitude\n"
   ]
  },
  {
   "cell_type": "code",
   "execution_count": null,
   "metadata": {
    "id": "ofEowa5tZlrE"
   },
   "outputs": [],
   "source": [
    " # 1t for rows and second for columns\n"
   ]
  },
  {
   "cell_type": "code",
   "execution_count": null,
   "metadata": {
    "id": "udjK0qfYZpnW"
   },
   "outputs": [],
   "source": [
    "# train Kmeans model on x\n"
   ]
  },
  {
   "cell_type": "code",
   "execution_count": null,
   "metadata": {
    "id": "trmp79iCZvKc"
   },
   "outputs": [],
   "source": [
    "# predict on x\n"
   ]
  },
  {
   "cell_type": "code",
   "execution_count": null,
   "metadata": {
    "id": "Xqr7bSFHZ0Yd"
   },
   "outputs": [],
   "source": [
    "#Visualize the scatter plot of Longitude and Latitude again but this time with clusters identification\n"
   ]
  },
  {
   "cell_type": "code",
   "execution_count": null,
   "metadata": {
    "id": "FJeKkFTwZ4X8"
   },
   "outputs": [],
   "source": [
    "# perform an elbow method using multiple values of K on x-axis and WCSS (within cluster sum of square)\n",
    "wcss=[]\n"
   ]
  },
  {
   "cell_type": "markdown",
   "metadata": {
    "id": "h5ViHD1gdWWq"
   },
   "source": [
    "# Part 2\n"
   ]
  },
  {
   "cell_type": "code",
   "execution_count": null,
   "metadata": {
    "id": "-dQX5z_6dVeE"
   },
   "outputs": [],
   "source": [
    "# For example, here's several helpful packages to load in\n",
    "\n",
    "import numpy as np # linear algebra\n",
    "import pandas as pd # data processing, CSV file I/O (e.g. pd.read_csv)\n",
    "import matplotlib.pyplot as plt # for data visualization\n",
    "import seaborn as sns # for statistical data visualization\n",
    "%matplotlib inline\n"
   ]
  },
  {
   "cell_type": "code",
   "execution_count": null,
   "metadata": {
    "id": "wBke1Q8xdiul"
   },
   "outputs": [],
   "source": [
    "df = pd.read_csv(data)\n",
    "df.shape\n",
    "df.head()\n",
    "df.info()\n",
    "df.isnull().sum()"
   ]
  },
  {
   "cell_type": "code",
   "execution_count": null,
   "metadata": {
    "id": "NQwfn1Ghdxj3"
   },
   "outputs": [],
   "source": [
    "# drop redundant columns\n",
    "df.drop(['Column1', 'Column2', 'Column3', 'Column4'], axis=1, inplace=True)\n",
    "df.info()\n",
    "df.describe()"
   ]
  },
  {
   "cell_type": "code",
   "execution_count": null,
   "metadata": {
    "id": "fUtOQQvQd3a4"
   },
   "outputs": [],
   "source": [
    "# view how many different types of variables are there\n",
    "\n",
    "# view the labels in the variable\n",
    "\n",
    "# view how many different types of variables are there\n",
    "\n",
    "# view the labels in the variable\n",
    "\n",
    "\n",
    "# view how many different types of variables are there\n",
    "\n"
   ]
  },
  {
   "cell_type": "code",
   "execution_count": null,
   "metadata": {
    "id": "VvNPnyPTeFlE"
   },
   "outputs": [],
   "source": []
  },
  {
   "cell_type": "code",
   "execution_count": null,
   "metadata": {
    "id": "AiYebujEeKqp"
   },
   "outputs": [],
   "source": [
    "# declar features and target\n"
   ]
  },
  {
   "cell_type": "code",
   "execution_count": null,
   "metadata": {
    "id": "dkhnllmQecKv"
   },
   "outputs": [],
   "source": [
    "# encode both features and labels\n",
    "\n",
    "\n",
    "# visualize\n"
   ]
  },
  {
   "cell_type": "code",
   "execution_count": null,
   "metadata": {
    "id": "l71yQiHtfEDg"
   },
   "outputs": [],
   "source": [
    "from sklearn.preprocessing import MinMaxScaler\n",
    "\n"
   ]
  },
  {
   "cell_type": "code",
   "execution_count": null,
   "metadata": {
    "id": "UWjN3zitfHax"
   },
   "outputs": [],
   "source": []
  },
  {
   "cell_type": "code",
   "execution_count": null,
   "metadata": {
    "id": "ZGz7HbOTfPQR"
   },
   "outputs": [],
   "source": [
    "from sklearn.cluster import KMeans\n",
    "\n"
   ]
  },
  {
   "cell_type": "code",
   "execution_count": null,
   "metadata": {
    "id": "V8f2LcsHfjYI"
   },
   "outputs": [],
   "source": [
    "\n",
    "# check how many of the samples were correctly labeled\n",
    "\n"
   ]
  },
  {
   "cell_type": "code",
   "execution_count": null,
   "metadata": {
    "id": "iu51TqvqfoOp"
   },
   "outputs": [],
   "source": []
  },
  {
   "cell_type": "code",
   "execution_count": null,
   "metadata": {
    "id": "UgkmgB-Xfz7b"
   },
   "outputs": [],
   "source": [
    "# implement elbow method and plot the WCSS, print the accuracy and number of misclassified datapoints\n"
   ]
  }
 ],
 "metadata": {
  "colab": {
   "provenance": []
  },
  "kernelspec": {
   "display_name": "Python 3 (ipykernel)",
   "language": "python",
   "name": "python3"
  },
  "language_info": {
   "codemirror_mode": {
    "name": "ipython",
    "version": 3
   },
   "file_extension": ".py",
   "mimetype": "text/x-python",
   "name": "python",
   "nbconvert_exporter": "python",
   "pygments_lexer": "ipython3",
   "version": "3.11.5"
  }
 },
 "nbformat": 4,
 "nbformat_minor": 1
}
