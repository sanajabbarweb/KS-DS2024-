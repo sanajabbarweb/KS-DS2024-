{
 "cells": [
  {
   "cell_type": "markdown",
   "id": "5f0ade9f",
   "metadata": {},
   "source": [
    "# Assignment 2 (Part 2)"
   ]
  },
  {
   "cell_type": "code",
   "execution_count": 1,
   "id": "20f6ff57",
   "metadata": {},
   "outputs": [],
   "source": [
    "import pandas as pd\n",
    "import numpy as np\n",
    "import seaborn as sns\n",
    "import matplotlib.pyplot as plt"
   ]
  },
  {
   "cell_type": "markdown",
   "id": "5b078a24",
   "metadata": {},
   "source": [
    "We will explore a dataset, usually used in machine learning to perform classification. It has several demographic features of an adults and a column that shows whether they have an income of atleast 50k. Ofcourse, before performing machine learning we need to visualise clean the dataset and visualise so as to ascertain whether it will give reliable results."
   ]
  },
  {
   "cell_type": "markdown",
   "id": "77cf6762",
   "metadata": {},
   "source": [
    "**Question 1** Read the dataset `adults.csv` into the variable `adultsData`. `fnlwgt` is the index column."
   ]
  },
  {
   "cell_type": "code",
   "execution_count": 2,
   "id": "866ed29b",
   "metadata": {},
   "outputs": [
    {
     "data": {
      "text/html": [
       "<div>\n",
       "<style scoped>\n",
       "    .dataframe tbody tr th:only-of-type {\n",
       "        vertical-align: middle;\n",
       "    }\n",
       "\n",
       "    .dataframe tbody tr th {\n",
       "        vertical-align: top;\n",
       "    }\n",
       "\n",
       "    .dataframe thead th {\n",
       "        text-align: right;\n",
       "    }\n",
       "</style>\n",
       "<table border=\"1\" class=\"dataframe\">\n",
       "  <thead>\n",
       "    <tr style=\"text-align: right;\">\n",
       "      <th></th>\n",
       "      <th>age</th>\n",
       "      <th>workclass</th>\n",
       "      <th>education</th>\n",
       "      <th>educational-num</th>\n",
       "      <th>marital-status</th>\n",
       "      <th>occupation</th>\n",
       "      <th>relationship</th>\n",
       "      <th>race</th>\n",
       "      <th>gender</th>\n",
       "      <th>capital-gain</th>\n",
       "      <th>capital-loss</th>\n",
       "      <th>hours-per-week</th>\n",
       "      <th>native-country</th>\n",
       "      <th>income</th>\n",
       "    </tr>\n",
       "    <tr>\n",
       "      <th>fnlwgt</th>\n",
       "      <th></th>\n",
       "      <th></th>\n",
       "      <th></th>\n",
       "      <th></th>\n",
       "      <th></th>\n",
       "      <th></th>\n",
       "      <th></th>\n",
       "      <th></th>\n",
       "      <th></th>\n",
       "      <th></th>\n",
       "      <th></th>\n",
       "      <th></th>\n",
       "      <th></th>\n",
       "      <th></th>\n",
       "    </tr>\n",
       "  </thead>\n",
       "  <tbody>\n",
       "    <tr>\n",
       "      <th>226802.0</th>\n",
       "      <td>25.0</td>\n",
       "      <td>Private</td>\n",
       "      <td>11th</td>\n",
       "      <td>7.0</td>\n",
       "      <td>Never-married</td>\n",
       "      <td>Machine-op-inspct</td>\n",
       "      <td>Own-child</td>\n",
       "      <td>Black</td>\n",
       "      <td>Male</td>\n",
       "      <td>0.0</td>\n",
       "      <td>0.0</td>\n",
       "      <td>40.0</td>\n",
       "      <td>United-States</td>\n",
       "      <td>&lt;=50K</td>\n",
       "    </tr>\n",
       "    <tr>\n",
       "      <th>89814.0</th>\n",
       "      <td>38.0</td>\n",
       "      <td>Private</td>\n",
       "      <td>HS-grad</td>\n",
       "      <td>9.0</td>\n",
       "      <td>Married-civ-spouse</td>\n",
       "      <td>Farming-fishing</td>\n",
       "      <td>Husband</td>\n",
       "      <td>White</td>\n",
       "      <td>Male</td>\n",
       "      <td>0.0</td>\n",
       "      <td>0.0</td>\n",
       "      <td>50.0</td>\n",
       "      <td>United-States</td>\n",
       "      <td>&lt;=50K</td>\n",
       "    </tr>\n",
       "    <tr>\n",
       "      <th>336951.0</th>\n",
       "      <td>28.0</td>\n",
       "      <td>Local-gov</td>\n",
       "      <td>Assoc-acdm</td>\n",
       "      <td>12.0</td>\n",
       "      <td>Married-civ-spouse</td>\n",
       "      <td>Protective-serv</td>\n",
       "      <td>Husband</td>\n",
       "      <td>White</td>\n",
       "      <td>Male</td>\n",
       "      <td>0.0</td>\n",
       "      <td>0.0</td>\n",
       "      <td>40.0</td>\n",
       "      <td>United-States</td>\n",
       "      <td>&gt;50K</td>\n",
       "    </tr>\n",
       "    <tr>\n",
       "      <th>160323.0</th>\n",
       "      <td>44.0</td>\n",
       "      <td>Private</td>\n",
       "      <td>Some-college</td>\n",
       "      <td>10.0</td>\n",
       "      <td>Married-civ-spouse</td>\n",
       "      <td>Machine-op-inspct</td>\n",
       "      <td>Husband</td>\n",
       "      <td>Black</td>\n",
       "      <td>Male</td>\n",
       "      <td>7688.0</td>\n",
       "      <td>0.0</td>\n",
       "      <td>40.0</td>\n",
       "      <td>United-States</td>\n",
       "      <td>&gt;50K</td>\n",
       "    </tr>\n",
       "    <tr>\n",
       "      <th>103497.0</th>\n",
       "      <td>18.0</td>\n",
       "      <td>NaN</td>\n",
       "      <td>Some-college</td>\n",
       "      <td>10.0</td>\n",
       "      <td>Never-married</td>\n",
       "      <td>NaN</td>\n",
       "      <td>Own-child</td>\n",
       "      <td>White</td>\n",
       "      <td>Female</td>\n",
       "      <td>0.0</td>\n",
       "      <td>0.0</td>\n",
       "      <td>30.0</td>\n",
       "      <td>United-States</td>\n",
       "      <td>&lt;=50K</td>\n",
       "    </tr>\n",
       "  </tbody>\n",
       "</table>\n",
       "</div>"
      ],
      "text/plain": [
       "           age  workclass     education  educational-num      marital-status  \\\n",
       "fnlwgt                                                                         \n",
       "226802.0  25.0    Private          11th              7.0       Never-married   \n",
       "89814.0   38.0    Private       HS-grad              9.0  Married-civ-spouse   \n",
       "336951.0  28.0  Local-gov    Assoc-acdm             12.0  Married-civ-spouse   \n",
       "160323.0  44.0    Private  Some-college             10.0  Married-civ-spouse   \n",
       "103497.0  18.0        NaN  Some-college             10.0       Never-married   \n",
       "\n",
       "                 occupation relationship   race  gender  capital-gain  \\\n",
       "fnlwgt                                                                  \n",
       "226802.0  Machine-op-inspct    Own-child  Black    Male           0.0   \n",
       "89814.0     Farming-fishing      Husband  White    Male           0.0   \n",
       "336951.0    Protective-serv      Husband  White    Male           0.0   \n",
       "160323.0  Machine-op-inspct      Husband  Black    Male        7688.0   \n",
       "103497.0                NaN    Own-child  White  Female           0.0   \n",
       "\n",
       "          capital-loss  hours-per-week native-country income  \n",
       "fnlwgt                                                        \n",
       "226802.0           0.0            40.0  United-States  <=50K  \n",
       "89814.0            0.0            50.0  United-States  <=50K  \n",
       "336951.0           0.0            40.0  United-States   >50K  \n",
       "160323.0           0.0            40.0  United-States   >50K  \n",
       "103497.0           0.0            30.0  United-States  <=50K  "
      ]
     },
     "execution_count": 2,
     "metadata": {},
     "output_type": "execute_result"
    }
   ],
   "source": [
    "#Write your code here\n",
    "adultsData = pd.read_csv('adultscopy.csv', index_col='fnlwgt')\n",
    "adultsData.head(5)"
   ]
  },
  {
   "cell_type": "markdown",
   "id": "50336147",
   "metadata": {},
   "source": [
    "**Question 2** Convert all numerical columns, including the index, into the `int` datatype. "
   ]
  },
  {
   "cell_type": "code",
   "execution_count": null,
   "id": "0f30a418",
   "metadata": {},
   "outputs": [],
   "source": []
  },
  {
   "cell_type": "markdown",
   "id": "a2364411",
   "metadata": {},
   "source": [
    "**Question 3** Map the income column to `0` for `<= 50k` and `1` otherwise.  "
   ]
  },
  {
   "cell_type": "code",
   "execution_count": null,
   "id": "4ea3a22b",
   "metadata": {},
   "outputs": [],
   "source": []
  },
  {
   "cell_type": "markdown",
   "id": "9982600a",
   "metadata": {},
   "source": [
    "**Question 4** Change the name of the column `education-num` to `years of education` and `relationship` to `relationship status`. Replace dashes in the index names with spaces (without hardcoding)."
   ]
  },
  {
   "cell_type": "code",
   "execution_count": null,
   "id": "e837952c",
   "metadata": {},
   "outputs": [],
   "source": []
  },
  {
   "cell_type": "markdown",
   "id": "842fb084",
   "metadata": {},
   "source": [
    "**Question 5** Convert all the string columns into the `string` datatype. "
   ]
  },
  {
   "cell_type": "code",
   "execution_count": null,
   "id": "0cc274b2",
   "metadata": {},
   "outputs": [],
   "source": []
  },
  {
   "attachments": {},
   "cell_type": "markdown",
   "id": "119b6154",
   "metadata": {},
   "source": [
    "**Question 6** Replace Dash(-) with space(\" \") in the entire dataset"
   ]
  },
  {
   "cell_type": "code",
   "execution_count": null,
   "id": "78b681e8",
   "metadata": {},
   "outputs": [],
   "source": []
  },
  {
   "cell_type": "markdown",
   "id": "8ee045ce",
   "metadata": {},
   "source": [
    "**Question 10** Visualize the number of missing values for only the columns with missing values. "
   ]
  },
  {
   "cell_type": "code",
   "execution_count": null,
   "id": "938f58bd",
   "metadata": {},
   "outputs": [],
   "source": []
  },
  {
   "attachments": {},
   "cell_type": "markdown",
   "id": "c9c1b20b",
   "metadata": {},
   "source": [
    "**Question 11** In this question we will deal with null values. Replace the null values in each column with the non-null categorical mode of the column with the years of education. What that means is for each unique value of `years of education` find the mode of column's non-null rows, and replace null with the respective mode. "
   ]
  },
  {
   "cell_type": "code",
   "execution_count": null,
   "id": "07228510",
   "metadata": {},
   "outputs": [],
   "source": []
  },
  {
   "cell_type": "markdown",
   "id": "9bfb1417",
   "metadata": {},
   "source": [
    "**Question 12** Combine `capital gain` and `capital loss` columns into `capital profit`. Insert `capital profit` into `adultsData` right before `income`."
   ]
  },
  {
   "cell_type": "code",
   "execution_count": null,
   "id": "0b2cdfbc",
   "metadata": {},
   "outputs": [],
   "source": []
  },
  {
   "cell_type": "markdown",
   "id": "5cb0a658",
   "metadata": {},
   "source": [
    "**Question 23** Make a function `column_describe` that receives `adultsData` and the column name and returns the column description as returned by `adultsData.describe()`."
   ]
  },
  {
   "cell_type": "code",
   "execution_count": null,
   "id": "c51f6f76",
   "metadata": {},
   "outputs": [],
   "source": []
  },
  {
   "cell_type": "markdown",
   "id": "c3397d11",
   "metadata": {},
   "source": [
    "**Question 24** Make another function `describe` that receives the dataset and uses the above function to describe the dataframe exactly as adultsData.describe() would do it. Use loops if needed."
   ]
  },
  {
   "cell_type": "code",
   "execution_count": null,
   "id": "94ff23d1",
   "metadata": {},
   "outputs": [],
   "source": []
  },
  {
   "attachments": {},
   "cell_type": "markdown",
   "id": "8bcc1dd1",
   "metadata": {},
   "source": [
    " Age Distribution: Create a histogram or density plot to visualize the distribution of ages in the dataset."
   ]
  },
  {
   "cell_type": "code",
   "execution_count": null,
   "id": "fab7bdff",
   "metadata": {},
   "outputs": [],
   "source": []
  },
  {
   "attachments": {},
   "cell_type": "markdown",
   "id": "e4599df6",
   "metadata": {},
   "source": [
    "Education Level Distribution: Generate a bar chart or pie chart to display the distribution of education levels among the individuals in the dataset."
   ]
  },
  {
   "cell_type": "code",
   "execution_count": null,
   "id": "82c44d76",
   "metadata": {},
   "outputs": [],
   "source": []
  },
  {
   "attachments": {},
   "cell_type": "markdown",
   "id": "b4047e98",
   "metadata": {},
   "source": [
    "Create a grouped bar chart to show the gender and race representation within the dataset. This can help you understand the diversity of the population."
   ]
  },
  {
   "cell_type": "code",
   "execution_count": null,
   "id": "549efcea",
   "metadata": {},
   "outputs": [],
   "source": []
  }
 ],
 "metadata": {
  "kernelspec": {
   "display_name": "Python 3",
   "language": "python",
   "name": "python3"
  },
  "language_info": {
   "codemirror_mode": {
    "name": "ipython",
    "version": 3
   },
   "file_extension": ".py",
   "mimetype": "text/x-python",
   "name": "python",
   "nbconvert_exporter": "python",
   "pygments_lexer": "ipython3",
   "version": "3.7.13"
  },
  "vscode": {
   "interpreter": {
    "hash": "7a3d88c904243d2c3f246166597f86d1c0a39f3d97496d1fe394945d0c6d436d"
   }
  }
 },
 "nbformat": 4,
 "nbformat_minor": 5
}
