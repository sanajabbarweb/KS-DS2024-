{
  "nbformat": 4,
  "nbformat_minor": 0,
  "metadata": {
    "colab": {
      "provenance": []
    },
    "kernelspec": {
      "name": "python3",
      "display_name": "Python 3"
    },
    "language_info": {
      "name": "python"
    }
  },
  "cells": [
    {
      "cell_type": "code",
      "execution_count": null,
      "metadata": {
        "id": "S1VuPPDQdGra"
      },
      "outputs": [],
      "source": [
        "#K Nearest Neighbors and decision tree with Python\n",
        "#Import Libraries\n",
        "\n"
      ]
    },
    {
      "cell_type": "code",
      "source": [
        "\n",
        "#Load the Data Classified Data\n"
      ],
      "metadata": {
        "id": "KMDljmwcdLVs"
      },
      "execution_count": null,
      "outputs": []
    },
    {
      "cell_type": "markdown",
      "source": [
        "\n",
        "Because the **KNN** classifier predicts the class of a given test observation\n",
        "by identifying the observations that are nearest to it, the scale of the\n",
        "variables matters. Any variables that are on a large scale will have a much\n",
        "larger effect on the distance between the observations, and hence on the KNN\n",
        "classifier, than variables that are on a small scale."
      ],
      "metadata": {
        "id": "lct3YyU-dPXY"
      }
    },
    {
      "cell_type": "code",
      "source": [
        "from sklearn.preprocessing import StandardScaler\n",
        "#Standardize the input Variables, don't include TARGET CLASS in input dataframe\n"
      ],
      "metadata": {
        "id": "0Fy99un7daW5"
      },
      "execution_count": null,
      "outputs": []
    },
    {
      "cell_type": "code",
      "source": [
        "#Train-Test Split\n"
      ],
      "metadata": {
        "id": "G8f2ORpCdq0H"
      },
      "execution_count": null,
      "outputs": []
    },
    {
      "cell_type": "code",
      "source": [
        "## Using KNN\n",
        "#Remember that we are trying to come up with a model to predict whether someone\n",
        "#will TARGET CLASS or not. We'll start with k=1.\n"
      ],
      "metadata": {
        "id": "ZjBigjJidus2"
      },
      "execution_count": null,
      "outputs": []
    },
    {
      "cell_type": "code",
      "source": [],
      "metadata": {
        "id": "F0ZlS6_4dyol"
      },
      "execution_count": null,
      "outputs": []
    },
    {
      "cell_type": "code",
      "source": [
        "#Predicting and evavluations\n",
        "#Let's evaluate our knn model.\n",
        "\n",
        "\n",
        "#[[125  18]\n",
        "# [ 13 144]]"
      ],
      "metadata": {
        "id": "rvnEUjEbd7wp"
      },
      "execution_count": null,
      "outputs": []
    },
    {
      "cell_type": "markdown",
      "source": [
        "print(classification_report(y_test,pred))\n",
        "\n",
        "        precision    recall  f1-score   support\n",
        "\n",
        "         0       0.91      0.87      0.89       143\n",
        "         1       0.89      0.92      0.90       157\n",
        "         Total   0.90      0.90      0.90       300"
      ],
      "metadata": {
        "id": "mE93G1JTeBBd"
      }
    },
    {
      "cell_type": "code",
      "source": [
        "#Let's go ahead and use the elbow method to pick a good K Value:\n",
        "\n",
        "error_rate = []\n",
        "\n",
        "\n",
        "# Will take some time\n",
        "\n",
        "\n",
        "plt.figure(figsize=(10,6))\n",
        "\n",
        "plt.plot(range(1,40),error_rate, color='blue', linestyle='dashed', marker='o',markerfacecolor='red', markersize=10)\n",
        "\n",
        "plt.title('Error Rate vs. K Value')\n",
        "\n",
        "plt.xlabel('K')\n",
        "\n",
        "plt.ylabel('Error Rate')\n"
      ],
      "metadata": {
        "id": "cGGDaV5Cenx7"
      },
      "execution_count": null,
      "outputs": []
    },
    {
      "cell_type": "code",
      "source": [
        "# FIRST A QUICK COMPARISON TO OUR ORIGINAL K=1\n",
        "\n",
        "print('WITH K=1')\n",
        "print('\\n')\n",
        "print(confusion_matrix(y_test,pred))\n",
        "print('\\n')\n",
        "print(classification_report(y_test,pred))"
      ],
      "metadata": {
        "id": "v4mo_Z2dfEZw"
      },
      "execution_count": null,
      "outputs": []
    },
    {
      "cell_type": "code",
      "source": [
        "# NOW WITH K=23\n",
        "\n",
        "\n",
        "\n",
        "print('WITH K=23')\n",
        "print('\\n')\n",
        "print(confusion_matrix(y_test,pred))\n",
        "print('\\n')\n",
        "print(classification_report(y_test,pred))\n",
        "\n",
        "WITH K=23"
      ],
      "metadata": {
        "id": "X5MhRTnjfNQj"
      },
      "execution_count": null,
      "outputs": []
    }
  ]
}